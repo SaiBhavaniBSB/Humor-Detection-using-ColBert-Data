{
  "nbformat": 4,
  "nbformat_minor": 0,
  "metadata": {
    "colab": {
      "name": "Team2_Humor_Detection.ipynb",
      "provenance": [],
      "collapsed_sections": []
    },
    "kernelspec": {
      "name": "python3",
      "display_name": "Python 3"
    },
    "language_info": {
      "name": "python"
    },
    "accelerator": "GPU",
    "widgets": {
      "application/vnd.jupyter.widget-state+json": {
        "4590da4e5f6346eb882b22d469918a5c": {
          "model_module": "@jupyter-widgets/controls",
          "model_name": "HBoxModel",
          "model_module_version": "1.5.0",
          "state": {
            "_view_name": "HBoxView",
            "_dom_classes": [],
            "_model_name": "HBoxModel",
            "_view_module": "@jupyter-widgets/controls",
            "_model_module_version": "1.5.0",
            "_view_count": null,
            "_view_module_version": "1.5.0",
            "box_style": "",
            "layout": "IPY_MODEL_22c10f57912840bc9b5f8cb69c72e5bd",
            "_model_module": "@jupyter-widgets/controls",
            "children": [
              "IPY_MODEL_2adae57c80074001927f3c41e7e61fac",
              "IPY_MODEL_7d898e969b02401e8cc36d8424bfa500",
              "IPY_MODEL_55d54353e25f49f88ea21e13ffe4d302"
            ]
          }
        },
        "22c10f57912840bc9b5f8cb69c72e5bd": {
          "model_module": "@jupyter-widgets/base",
          "model_name": "LayoutModel",
          "model_module_version": "1.2.0",
          "state": {
            "_view_name": "LayoutView",
            "grid_template_rows": null,
            "right": null,
            "justify_content": null,
            "_view_module": "@jupyter-widgets/base",
            "overflow": null,
            "_model_module_version": "1.2.0",
            "_view_count": null,
            "flex_flow": null,
            "width": null,
            "min_width": null,
            "border": null,
            "align_items": null,
            "bottom": null,
            "_model_module": "@jupyter-widgets/base",
            "top": null,
            "grid_column": null,
            "overflow_y": null,
            "overflow_x": null,
            "grid_auto_flow": null,
            "grid_area": null,
            "grid_template_columns": null,
            "flex": null,
            "_model_name": "LayoutModel",
            "justify_items": null,
            "grid_row": null,
            "max_height": null,
            "align_content": null,
            "visibility": null,
            "align_self": null,
            "height": null,
            "min_height": null,
            "padding": null,
            "grid_auto_rows": null,
            "grid_gap": null,
            "max_width": null,
            "order": null,
            "_view_module_version": "1.2.0",
            "grid_template_areas": null,
            "object_position": null,
            "object_fit": null,
            "grid_auto_columns": null,
            "margin": null,
            "display": null,
            "left": null
          }
        },
        "2adae57c80074001927f3c41e7e61fac": {
          "model_module": "@jupyter-widgets/controls",
          "model_name": "HTMLModel",
          "model_module_version": "1.5.0",
          "state": {
            "_view_name": "HTMLView",
            "style": "IPY_MODEL_f58ca2efd7564882ad6e17e59ad5f5c5",
            "_dom_classes": [],
            "description": "",
            "_model_name": "HTMLModel",
            "placeholder": "​",
            "_view_module": "@jupyter-widgets/controls",
            "_model_module_version": "1.5.0",
            "value": "Downloading: 100%",
            "_view_count": null,
            "_view_module_version": "1.5.0",
            "description_tooltip": null,
            "_model_module": "@jupyter-widgets/controls",
            "layout": "IPY_MODEL_51abe802f4324706951aad05e5e959dd"
          }
        },
        "7d898e969b02401e8cc36d8424bfa500": {
          "model_module": "@jupyter-widgets/controls",
          "model_name": "FloatProgressModel",
          "model_module_version": "1.5.0",
          "state": {
            "_view_name": "ProgressView",
            "style": "IPY_MODEL_23570d091d9b422295b7b4a1306ed70f",
            "_dom_classes": [],
            "description": "",
            "_model_name": "FloatProgressModel",
            "bar_style": "success",
            "max": 231508,
            "_view_module": "@jupyter-widgets/controls",
            "_model_module_version": "1.5.0",
            "value": 231508,
            "_view_count": null,
            "_view_module_version": "1.5.0",
            "orientation": "horizontal",
            "min": 0,
            "description_tooltip": null,
            "_model_module": "@jupyter-widgets/controls",
            "layout": "IPY_MODEL_2fe796e05f1f49e8b185fe0f8d8bb429"
          }
        },
        "55d54353e25f49f88ea21e13ffe4d302": {
          "model_module": "@jupyter-widgets/controls",
          "model_name": "HTMLModel",
          "model_module_version": "1.5.0",
          "state": {
            "_view_name": "HTMLView",
            "style": "IPY_MODEL_07da8ac1656f4b7a974fd652fd3a55e7",
            "_dom_classes": [],
            "description": "",
            "_model_name": "HTMLModel",
            "placeholder": "​",
            "_view_module": "@jupyter-widgets/controls",
            "_model_module_version": "1.5.0",
            "value": " 226k/226k [00:00&lt;00:00, 647kB/s]",
            "_view_count": null,
            "_view_module_version": "1.5.0",
            "description_tooltip": null,
            "_model_module": "@jupyter-widgets/controls",
            "layout": "IPY_MODEL_3b275110467346df8de80283532d3a6e"
          }
        },
        "f58ca2efd7564882ad6e17e59ad5f5c5": {
          "model_module": "@jupyter-widgets/controls",
          "model_name": "DescriptionStyleModel",
          "model_module_version": "1.5.0",
          "state": {
            "_view_name": "StyleView",
            "_model_name": "DescriptionStyleModel",
            "description_width": "",
            "_view_module": "@jupyter-widgets/base",
            "_model_module_version": "1.5.0",
            "_view_count": null,
            "_view_module_version": "1.2.0",
            "_model_module": "@jupyter-widgets/controls"
          }
        },
        "51abe802f4324706951aad05e5e959dd": {
          "model_module": "@jupyter-widgets/base",
          "model_name": "LayoutModel",
          "model_module_version": "1.2.0",
          "state": {
            "_view_name": "LayoutView",
            "grid_template_rows": null,
            "right": null,
            "justify_content": null,
            "_view_module": "@jupyter-widgets/base",
            "overflow": null,
            "_model_module_version": "1.2.0",
            "_view_count": null,
            "flex_flow": null,
            "width": null,
            "min_width": null,
            "border": null,
            "align_items": null,
            "bottom": null,
            "_model_module": "@jupyter-widgets/base",
            "top": null,
            "grid_column": null,
            "overflow_y": null,
            "overflow_x": null,
            "grid_auto_flow": null,
            "grid_area": null,
            "grid_template_columns": null,
            "flex": null,
            "_model_name": "LayoutModel",
            "justify_items": null,
            "grid_row": null,
            "max_height": null,
            "align_content": null,
            "visibility": null,
            "align_self": null,
            "height": null,
            "min_height": null,
            "padding": null,
            "grid_auto_rows": null,
            "grid_gap": null,
            "max_width": null,
            "order": null,
            "_view_module_version": "1.2.0",
            "grid_template_areas": null,
            "object_position": null,
            "object_fit": null,
            "grid_auto_columns": null,
            "margin": null,
            "display": null,
            "left": null
          }
        },
        "23570d091d9b422295b7b4a1306ed70f": {
          "model_module": "@jupyter-widgets/controls",
          "model_name": "ProgressStyleModel",
          "model_module_version": "1.5.0",
          "state": {
            "_view_name": "StyleView",
            "_model_name": "ProgressStyleModel",
            "description_width": "",
            "_view_module": "@jupyter-widgets/base",
            "_model_module_version": "1.5.0",
            "_view_count": null,
            "_view_module_version": "1.2.0",
            "bar_color": null,
            "_model_module": "@jupyter-widgets/controls"
          }
        },
        "2fe796e05f1f49e8b185fe0f8d8bb429": {
          "model_module": "@jupyter-widgets/base",
          "model_name": "LayoutModel",
          "model_module_version": "1.2.0",
          "state": {
            "_view_name": "LayoutView",
            "grid_template_rows": null,
            "right": null,
            "justify_content": null,
            "_view_module": "@jupyter-widgets/base",
            "overflow": null,
            "_model_module_version": "1.2.0",
            "_view_count": null,
            "flex_flow": null,
            "width": null,
            "min_width": null,
            "border": null,
            "align_items": null,
            "bottom": null,
            "_model_module": "@jupyter-widgets/base",
            "top": null,
            "grid_column": null,
            "overflow_y": null,
            "overflow_x": null,
            "grid_auto_flow": null,
            "grid_area": null,
            "grid_template_columns": null,
            "flex": null,
            "_model_name": "LayoutModel",
            "justify_items": null,
            "grid_row": null,
            "max_height": null,
            "align_content": null,
            "visibility": null,
            "align_self": null,
            "height": null,
            "min_height": null,
            "padding": null,
            "grid_auto_rows": null,
            "grid_gap": null,
            "max_width": null,
            "order": null,
            "_view_module_version": "1.2.0",
            "grid_template_areas": null,
            "object_position": null,
            "object_fit": null,
            "grid_auto_columns": null,
            "margin": null,
            "display": null,
            "left": null
          }
        },
        "07da8ac1656f4b7a974fd652fd3a55e7": {
          "model_module": "@jupyter-widgets/controls",
          "model_name": "DescriptionStyleModel",
          "model_module_version": "1.5.0",
          "state": {
            "_view_name": "StyleView",
            "_model_name": "DescriptionStyleModel",
            "description_width": "",
            "_view_module": "@jupyter-widgets/base",
            "_model_module_version": "1.5.0",
            "_view_count": null,
            "_view_module_version": "1.2.0",
            "_model_module": "@jupyter-widgets/controls"
          }
        },
        "3b275110467346df8de80283532d3a6e": {
          "model_module": "@jupyter-widgets/base",
          "model_name": "LayoutModel",
          "model_module_version": "1.2.0",
          "state": {
            "_view_name": "LayoutView",
            "grid_template_rows": null,
            "right": null,
            "justify_content": null,
            "_view_module": "@jupyter-widgets/base",
            "overflow": null,
            "_model_module_version": "1.2.0",
            "_view_count": null,
            "flex_flow": null,
            "width": null,
            "min_width": null,
            "border": null,
            "align_items": null,
            "bottom": null,
            "_model_module": "@jupyter-widgets/base",
            "top": null,
            "grid_column": null,
            "overflow_y": null,
            "overflow_x": null,
            "grid_auto_flow": null,
            "grid_area": null,
            "grid_template_columns": null,
            "flex": null,
            "_model_name": "LayoutModel",
            "justify_items": null,
            "grid_row": null,
            "max_height": null,
            "align_content": null,
            "visibility": null,
            "align_self": null,
            "height": null,
            "min_height": null,
            "padding": null,
            "grid_auto_rows": null,
            "grid_gap": null,
            "max_width": null,
            "order": null,
            "_view_module_version": "1.2.0",
            "grid_template_areas": null,
            "object_position": null,
            "object_fit": null,
            "grid_auto_columns": null,
            "margin": null,
            "display": null,
            "left": null
          }
        },
        "97ead11edb86497abda31cfcbf7db8ed": {
          "model_module": "@jupyter-widgets/controls",
          "model_name": "HBoxModel",
          "model_module_version": "1.5.0",
          "state": {
            "_view_name": "HBoxView",
            "_dom_classes": [],
            "_model_name": "HBoxModel",
            "_view_module": "@jupyter-widgets/controls",
            "_model_module_version": "1.5.0",
            "_view_count": null,
            "_view_module_version": "1.5.0",
            "box_style": "",
            "layout": "IPY_MODEL_915e33c3815048bcbf662aa7272fe3f5",
            "_model_module": "@jupyter-widgets/controls",
            "children": [
              "IPY_MODEL_1859b308425c467c95429e7ec3357ff6",
              "IPY_MODEL_ddc5bdc07c0540a08e89944a86456616",
              "IPY_MODEL_f4fb3237cda04e6fa831a13010da7a18"
            ]
          }
        },
        "915e33c3815048bcbf662aa7272fe3f5": {
          "model_module": "@jupyter-widgets/base",
          "model_name": "LayoutModel",
          "model_module_version": "1.2.0",
          "state": {
            "_view_name": "LayoutView",
            "grid_template_rows": null,
            "right": null,
            "justify_content": null,
            "_view_module": "@jupyter-widgets/base",
            "overflow": null,
            "_model_module_version": "1.2.0",
            "_view_count": null,
            "flex_flow": null,
            "width": null,
            "min_width": null,
            "border": null,
            "align_items": null,
            "bottom": null,
            "_model_module": "@jupyter-widgets/base",
            "top": null,
            "grid_column": null,
            "overflow_y": null,
            "overflow_x": null,
            "grid_auto_flow": null,
            "grid_area": null,
            "grid_template_columns": null,
            "flex": null,
            "_model_name": "LayoutModel",
            "justify_items": null,
            "grid_row": null,
            "max_height": null,
            "align_content": null,
            "visibility": null,
            "align_self": null,
            "height": null,
            "min_height": null,
            "padding": null,
            "grid_auto_rows": null,
            "grid_gap": null,
            "max_width": null,
            "order": null,
            "_view_module_version": "1.2.0",
            "grid_template_areas": null,
            "object_position": null,
            "object_fit": null,
            "grid_auto_columns": null,
            "margin": null,
            "display": null,
            "left": null
          }
        },
        "1859b308425c467c95429e7ec3357ff6": {
          "model_module": "@jupyter-widgets/controls",
          "model_name": "HTMLModel",
          "model_module_version": "1.5.0",
          "state": {
            "_view_name": "HTMLView",
            "style": "IPY_MODEL_4914167f30234a528c4f72dc43a9a130",
            "_dom_classes": [],
            "description": "",
            "_model_name": "HTMLModel",
            "placeholder": "​",
            "_view_module": "@jupyter-widgets/controls",
            "_model_module_version": "1.5.0",
            "value": "Downloading: 100%",
            "_view_count": null,
            "_view_module_version": "1.5.0",
            "description_tooltip": null,
            "_model_module": "@jupyter-widgets/controls",
            "layout": "IPY_MODEL_2661db563c8f40b8a552ff4734d53727"
          }
        },
        "ddc5bdc07c0540a08e89944a86456616": {
          "model_module": "@jupyter-widgets/controls",
          "model_name": "FloatProgressModel",
          "model_module_version": "1.5.0",
          "state": {
            "_view_name": "ProgressView",
            "style": "IPY_MODEL_60d8c8b99d574384b51c929c5356efb8",
            "_dom_classes": [],
            "description": "",
            "_model_name": "FloatProgressModel",
            "bar_style": "success",
            "max": 28,
            "_view_module": "@jupyter-widgets/controls",
            "_model_module_version": "1.5.0",
            "value": 28,
            "_view_count": null,
            "_view_module_version": "1.5.0",
            "orientation": "horizontal",
            "min": 0,
            "description_tooltip": null,
            "_model_module": "@jupyter-widgets/controls",
            "layout": "IPY_MODEL_f1ae7c25cbfc43e18a52b9603bf0c437"
          }
        },
        "f4fb3237cda04e6fa831a13010da7a18": {
          "model_module": "@jupyter-widgets/controls",
          "model_name": "HTMLModel",
          "model_module_version": "1.5.0",
          "state": {
            "_view_name": "HTMLView",
            "style": "IPY_MODEL_3b5cb3205bbc415d853db4ec680c75d8",
            "_dom_classes": [],
            "description": "",
            "_model_name": "HTMLModel",
            "placeholder": "​",
            "_view_module": "@jupyter-widgets/controls",
            "_model_module_version": "1.5.0",
            "value": " 28.0/28.0 [00:00&lt;00:00, 772B/s]",
            "_view_count": null,
            "_view_module_version": "1.5.0",
            "description_tooltip": null,
            "_model_module": "@jupyter-widgets/controls",
            "layout": "IPY_MODEL_94a93a5f497d453e9a5ba3614a6d72c8"
          }
        },
        "4914167f30234a528c4f72dc43a9a130": {
          "model_module": "@jupyter-widgets/controls",
          "model_name": "DescriptionStyleModel",
          "model_module_version": "1.5.0",
          "state": {
            "_view_name": "StyleView",
            "_model_name": "DescriptionStyleModel",
            "description_width": "",
            "_view_module": "@jupyter-widgets/base",
            "_model_module_version": "1.5.0",
            "_view_count": null,
            "_view_module_version": "1.2.0",
            "_model_module": "@jupyter-widgets/controls"
          }
        },
        "2661db563c8f40b8a552ff4734d53727": {
          "model_module": "@jupyter-widgets/base",
          "model_name": "LayoutModel",
          "model_module_version": "1.2.0",
          "state": {
            "_view_name": "LayoutView",
            "grid_template_rows": null,
            "right": null,
            "justify_content": null,
            "_view_module": "@jupyter-widgets/base",
            "overflow": null,
            "_model_module_version": "1.2.0",
            "_view_count": null,
            "flex_flow": null,
            "width": null,
            "min_width": null,
            "border": null,
            "align_items": null,
            "bottom": null,
            "_model_module": "@jupyter-widgets/base",
            "top": null,
            "grid_column": null,
            "overflow_y": null,
            "overflow_x": null,
            "grid_auto_flow": null,
            "grid_area": null,
            "grid_template_columns": null,
            "flex": null,
            "_model_name": "LayoutModel",
            "justify_items": null,
            "grid_row": null,
            "max_height": null,
            "align_content": null,
            "visibility": null,
            "align_self": null,
            "height": null,
            "min_height": null,
            "padding": null,
            "grid_auto_rows": null,
            "grid_gap": null,
            "max_width": null,
            "order": null,
            "_view_module_version": "1.2.0",
            "grid_template_areas": null,
            "object_position": null,
            "object_fit": null,
            "grid_auto_columns": null,
            "margin": null,
            "display": null,
            "left": null
          }
        },
        "60d8c8b99d574384b51c929c5356efb8": {
          "model_module": "@jupyter-widgets/controls",
          "model_name": "ProgressStyleModel",
          "model_module_version": "1.5.0",
          "state": {
            "_view_name": "StyleView",
            "_model_name": "ProgressStyleModel",
            "description_width": "",
            "_view_module": "@jupyter-widgets/base",
            "_model_module_version": "1.5.0",
            "_view_count": null,
            "_view_module_version": "1.2.0",
            "bar_color": null,
            "_model_module": "@jupyter-widgets/controls"
          }
        },
        "f1ae7c25cbfc43e18a52b9603bf0c437": {
          "model_module": "@jupyter-widgets/base",
          "model_name": "LayoutModel",
          "model_module_version": "1.2.0",
          "state": {
            "_view_name": "LayoutView",
            "grid_template_rows": null,
            "right": null,
            "justify_content": null,
            "_view_module": "@jupyter-widgets/base",
            "overflow": null,
            "_model_module_version": "1.2.0",
            "_view_count": null,
            "flex_flow": null,
            "width": null,
            "min_width": null,
            "border": null,
            "align_items": null,
            "bottom": null,
            "_model_module": "@jupyter-widgets/base",
            "top": null,
            "grid_column": null,
            "overflow_y": null,
            "overflow_x": null,
            "grid_auto_flow": null,
            "grid_area": null,
            "grid_template_columns": null,
            "flex": null,
            "_model_name": "LayoutModel",
            "justify_items": null,
            "grid_row": null,
            "max_height": null,
            "align_content": null,
            "visibility": null,
            "align_self": null,
            "height": null,
            "min_height": null,
            "padding": null,
            "grid_auto_rows": null,
            "grid_gap": null,
            "max_width": null,
            "order": null,
            "_view_module_version": "1.2.0",
            "grid_template_areas": null,
            "object_position": null,
            "object_fit": null,
            "grid_auto_columns": null,
            "margin": null,
            "display": null,
            "left": null
          }
        },
        "3b5cb3205bbc415d853db4ec680c75d8": {
          "model_module": "@jupyter-widgets/controls",
          "model_name": "DescriptionStyleModel",
          "model_module_version": "1.5.0",
          "state": {
            "_view_name": "StyleView",
            "_model_name": "DescriptionStyleModel",
            "description_width": "",
            "_view_module": "@jupyter-widgets/base",
            "_model_module_version": "1.5.0",
            "_view_count": null,
            "_view_module_version": "1.2.0",
            "_model_module": "@jupyter-widgets/controls"
          }
        },
        "94a93a5f497d453e9a5ba3614a6d72c8": {
          "model_module": "@jupyter-widgets/base",
          "model_name": "LayoutModel",
          "model_module_version": "1.2.0",
          "state": {
            "_view_name": "LayoutView",
            "grid_template_rows": null,
            "right": null,
            "justify_content": null,
            "_view_module": "@jupyter-widgets/base",
            "overflow": null,
            "_model_module_version": "1.2.0",
            "_view_count": null,
            "flex_flow": null,
            "width": null,
            "min_width": null,
            "border": null,
            "align_items": null,
            "bottom": null,
            "_model_module": "@jupyter-widgets/base",
            "top": null,
            "grid_column": null,
            "overflow_y": null,
            "overflow_x": null,
            "grid_auto_flow": null,
            "grid_area": null,
            "grid_template_columns": null,
            "flex": null,
            "_model_name": "LayoutModel",
            "justify_items": null,
            "grid_row": null,
            "max_height": null,
            "align_content": null,
            "visibility": null,
            "align_self": null,
            "height": null,
            "min_height": null,
            "padding": null,
            "grid_auto_rows": null,
            "grid_gap": null,
            "max_width": null,
            "order": null,
            "_view_module_version": "1.2.0",
            "grid_template_areas": null,
            "object_position": null,
            "object_fit": null,
            "grid_auto_columns": null,
            "margin": null,
            "display": null,
            "left": null
          }
        },
        "7cca641ab3e6491da125129a9124f257": {
          "model_module": "@jupyter-widgets/controls",
          "model_name": "HBoxModel",
          "model_module_version": "1.5.0",
          "state": {
            "_view_name": "HBoxView",
            "_dom_classes": [],
            "_model_name": "HBoxModel",
            "_view_module": "@jupyter-widgets/controls",
            "_model_module_version": "1.5.0",
            "_view_count": null,
            "_view_module_version": "1.5.0",
            "box_style": "",
            "layout": "IPY_MODEL_cc6a25baab504e7db8ffac4ad1462202",
            "_model_module": "@jupyter-widgets/controls",
            "children": [
              "IPY_MODEL_9bcb1cc681c64280a002859fdc51bcda",
              "IPY_MODEL_eab1a3961ce443ef8b93cc38a3a29ba7",
              "IPY_MODEL_abc11c8b720f4b2fbc0da7f69206939e"
            ]
          }
        },
        "cc6a25baab504e7db8ffac4ad1462202": {
          "model_module": "@jupyter-widgets/base",
          "model_name": "LayoutModel",
          "model_module_version": "1.2.0",
          "state": {
            "_view_name": "LayoutView",
            "grid_template_rows": null,
            "right": null,
            "justify_content": null,
            "_view_module": "@jupyter-widgets/base",
            "overflow": null,
            "_model_module_version": "1.2.0",
            "_view_count": null,
            "flex_flow": null,
            "width": null,
            "min_width": null,
            "border": null,
            "align_items": null,
            "bottom": null,
            "_model_module": "@jupyter-widgets/base",
            "top": null,
            "grid_column": null,
            "overflow_y": null,
            "overflow_x": null,
            "grid_auto_flow": null,
            "grid_area": null,
            "grid_template_columns": null,
            "flex": null,
            "_model_name": "LayoutModel",
            "justify_items": null,
            "grid_row": null,
            "max_height": null,
            "align_content": null,
            "visibility": null,
            "align_self": null,
            "height": null,
            "min_height": null,
            "padding": null,
            "grid_auto_rows": null,
            "grid_gap": null,
            "max_width": null,
            "order": null,
            "_view_module_version": "1.2.0",
            "grid_template_areas": null,
            "object_position": null,
            "object_fit": null,
            "grid_auto_columns": null,
            "margin": null,
            "display": null,
            "left": null
          }
        },
        "9bcb1cc681c64280a002859fdc51bcda": {
          "model_module": "@jupyter-widgets/controls",
          "model_name": "HTMLModel",
          "model_module_version": "1.5.0",
          "state": {
            "_view_name": "HTMLView",
            "style": "IPY_MODEL_1044dcede5d4423c9b719bfb22418455",
            "_dom_classes": [],
            "description": "",
            "_model_name": "HTMLModel",
            "placeholder": "​",
            "_view_module": "@jupyter-widgets/controls",
            "_model_module_version": "1.5.0",
            "value": "Downloading: 100%",
            "_view_count": null,
            "_view_module_version": "1.5.0",
            "description_tooltip": null,
            "_model_module": "@jupyter-widgets/controls",
            "layout": "IPY_MODEL_0c71063552b744b79204bdb85eb6cad9"
          }
        },
        "eab1a3961ce443ef8b93cc38a3a29ba7": {
          "model_module": "@jupyter-widgets/controls",
          "model_name": "FloatProgressModel",
          "model_module_version": "1.5.0",
          "state": {
            "_view_name": "ProgressView",
            "style": "IPY_MODEL_88a7da0f880b434682699598c0ca65be",
            "_dom_classes": [],
            "description": "",
            "_model_name": "FloatProgressModel",
            "bar_style": "success",
            "max": 466062,
            "_view_module": "@jupyter-widgets/controls",
            "_model_module_version": "1.5.0",
            "value": 466062,
            "_view_count": null,
            "_view_module_version": "1.5.0",
            "orientation": "horizontal",
            "min": 0,
            "description_tooltip": null,
            "_model_module": "@jupyter-widgets/controls",
            "layout": "IPY_MODEL_1f884099c3244c60854b05b1f90648df"
          }
        },
        "abc11c8b720f4b2fbc0da7f69206939e": {
          "model_module": "@jupyter-widgets/controls",
          "model_name": "HTMLModel",
          "model_module_version": "1.5.0",
          "state": {
            "_view_name": "HTMLView",
            "style": "IPY_MODEL_5bdd8159162447d8937f1d04bffdf830",
            "_dom_classes": [],
            "description": "",
            "_model_name": "HTMLModel",
            "placeholder": "​",
            "_view_module": "@jupyter-widgets/controls",
            "_model_module_version": "1.5.0",
            "value": " 455k/455k [00:00&lt;00:00, 971kB/s]",
            "_view_count": null,
            "_view_module_version": "1.5.0",
            "description_tooltip": null,
            "_model_module": "@jupyter-widgets/controls",
            "layout": "IPY_MODEL_9d0c8285425042579a95ec1772f08d4d"
          }
        },
        "1044dcede5d4423c9b719bfb22418455": {
          "model_module": "@jupyter-widgets/controls",
          "model_name": "DescriptionStyleModel",
          "model_module_version": "1.5.0",
          "state": {
            "_view_name": "StyleView",
            "_model_name": "DescriptionStyleModel",
            "description_width": "",
            "_view_module": "@jupyter-widgets/base",
            "_model_module_version": "1.5.0",
            "_view_count": null,
            "_view_module_version": "1.2.0",
            "_model_module": "@jupyter-widgets/controls"
          }
        },
        "0c71063552b744b79204bdb85eb6cad9": {
          "model_module": "@jupyter-widgets/base",
          "model_name": "LayoutModel",
          "model_module_version": "1.2.0",
          "state": {
            "_view_name": "LayoutView",
            "grid_template_rows": null,
            "right": null,
            "justify_content": null,
            "_view_module": "@jupyter-widgets/base",
            "overflow": null,
            "_model_module_version": "1.2.0",
            "_view_count": null,
            "flex_flow": null,
            "width": null,
            "min_width": null,
            "border": null,
            "align_items": null,
            "bottom": null,
            "_model_module": "@jupyter-widgets/base",
            "top": null,
            "grid_column": null,
            "overflow_y": null,
            "overflow_x": null,
            "grid_auto_flow": null,
            "grid_area": null,
            "grid_template_columns": null,
            "flex": null,
            "_model_name": "LayoutModel",
            "justify_items": null,
            "grid_row": null,
            "max_height": null,
            "align_content": null,
            "visibility": null,
            "align_self": null,
            "height": null,
            "min_height": null,
            "padding": null,
            "grid_auto_rows": null,
            "grid_gap": null,
            "max_width": null,
            "order": null,
            "_view_module_version": "1.2.0",
            "grid_template_areas": null,
            "object_position": null,
            "object_fit": null,
            "grid_auto_columns": null,
            "margin": null,
            "display": null,
            "left": null
          }
        },
        "88a7da0f880b434682699598c0ca65be": {
          "model_module": "@jupyter-widgets/controls",
          "model_name": "ProgressStyleModel",
          "model_module_version": "1.5.0",
          "state": {
            "_view_name": "StyleView",
            "_model_name": "ProgressStyleModel",
            "description_width": "",
            "_view_module": "@jupyter-widgets/base",
            "_model_module_version": "1.5.0",
            "_view_count": null,
            "_view_module_version": "1.2.0",
            "bar_color": null,
            "_model_module": "@jupyter-widgets/controls"
          }
        },
        "1f884099c3244c60854b05b1f90648df": {
          "model_module": "@jupyter-widgets/base",
          "model_name": "LayoutModel",
          "model_module_version": "1.2.0",
          "state": {
            "_view_name": "LayoutView",
            "grid_template_rows": null,
            "right": null,
            "justify_content": null,
            "_view_module": "@jupyter-widgets/base",
            "overflow": null,
            "_model_module_version": "1.2.0",
            "_view_count": null,
            "flex_flow": null,
            "width": null,
            "min_width": null,
            "border": null,
            "align_items": null,
            "bottom": null,
            "_model_module": "@jupyter-widgets/base",
            "top": null,
            "grid_column": null,
            "overflow_y": null,
            "overflow_x": null,
            "grid_auto_flow": null,
            "grid_area": null,
            "grid_template_columns": null,
            "flex": null,
            "_model_name": "LayoutModel",
            "justify_items": null,
            "grid_row": null,
            "max_height": null,
            "align_content": null,
            "visibility": null,
            "align_self": null,
            "height": null,
            "min_height": null,
            "padding": null,
            "grid_auto_rows": null,
            "grid_gap": null,
            "max_width": null,
            "order": null,
            "_view_module_version": "1.2.0",
            "grid_template_areas": null,
            "object_position": null,
            "object_fit": null,
            "grid_auto_columns": null,
            "margin": null,
            "display": null,
            "left": null
          }
        },
        "5bdd8159162447d8937f1d04bffdf830": {
          "model_module": "@jupyter-widgets/controls",
          "model_name": "DescriptionStyleModel",
          "model_module_version": "1.5.0",
          "state": {
            "_view_name": "StyleView",
            "_model_name": "DescriptionStyleModel",
            "description_width": "",
            "_view_module": "@jupyter-widgets/base",
            "_model_module_version": "1.5.0",
            "_view_count": null,
            "_view_module_version": "1.2.0",
            "_model_module": "@jupyter-widgets/controls"
          }
        },
        "9d0c8285425042579a95ec1772f08d4d": {
          "model_module": "@jupyter-widgets/base",
          "model_name": "LayoutModel",
          "model_module_version": "1.2.0",
          "state": {
            "_view_name": "LayoutView",
            "grid_template_rows": null,
            "right": null,
            "justify_content": null,
            "_view_module": "@jupyter-widgets/base",
            "overflow": null,
            "_model_module_version": "1.2.0",
            "_view_count": null,
            "flex_flow": null,
            "width": null,
            "min_width": null,
            "border": null,
            "align_items": null,
            "bottom": null,
            "_model_module": "@jupyter-widgets/base",
            "top": null,
            "grid_column": null,
            "overflow_y": null,
            "overflow_x": null,
            "grid_auto_flow": null,
            "grid_area": null,
            "grid_template_columns": null,
            "flex": null,
            "_model_name": "LayoutModel",
            "justify_items": null,
            "grid_row": null,
            "max_height": null,
            "align_content": null,
            "visibility": null,
            "align_self": null,
            "height": null,
            "min_height": null,
            "padding": null,
            "grid_auto_rows": null,
            "grid_gap": null,
            "max_width": null,
            "order": null,
            "_view_module_version": "1.2.0",
            "grid_template_areas": null,
            "object_position": null,
            "object_fit": null,
            "grid_auto_columns": null,
            "margin": null,
            "display": null,
            "left": null
          }
        },
        "9abe32ace575479da509fa2795956d58": {
          "model_module": "@jupyter-widgets/controls",
          "model_name": "HBoxModel",
          "model_module_version": "1.5.0",
          "state": {
            "_view_name": "HBoxView",
            "_dom_classes": [],
            "_model_name": "HBoxModel",
            "_view_module": "@jupyter-widgets/controls",
            "_model_module_version": "1.5.0",
            "_view_count": null,
            "_view_module_version": "1.5.0",
            "box_style": "",
            "layout": "IPY_MODEL_4fff0931ac4b4bf0ab23d8ccb42ffbce",
            "_model_module": "@jupyter-widgets/controls",
            "children": [
              "IPY_MODEL_06ca90c251b14f819954d07d796b304f",
              "IPY_MODEL_86200bde5edd4395925c1957e79505e8",
              "IPY_MODEL_23012acdaa6443fcbaa89611e1e40cea"
            ]
          }
        },
        "4fff0931ac4b4bf0ab23d8ccb42ffbce": {
          "model_module": "@jupyter-widgets/base",
          "model_name": "LayoutModel",
          "model_module_version": "1.2.0",
          "state": {
            "_view_name": "LayoutView",
            "grid_template_rows": null,
            "right": null,
            "justify_content": null,
            "_view_module": "@jupyter-widgets/base",
            "overflow": null,
            "_model_module_version": "1.2.0",
            "_view_count": null,
            "flex_flow": null,
            "width": null,
            "min_width": null,
            "border": null,
            "align_items": null,
            "bottom": null,
            "_model_module": "@jupyter-widgets/base",
            "top": null,
            "grid_column": null,
            "overflow_y": null,
            "overflow_x": null,
            "grid_auto_flow": null,
            "grid_area": null,
            "grid_template_columns": null,
            "flex": null,
            "_model_name": "LayoutModel",
            "justify_items": null,
            "grid_row": null,
            "max_height": null,
            "align_content": null,
            "visibility": null,
            "align_self": null,
            "height": null,
            "min_height": null,
            "padding": null,
            "grid_auto_rows": null,
            "grid_gap": null,
            "max_width": null,
            "order": null,
            "_view_module_version": "1.2.0",
            "grid_template_areas": null,
            "object_position": null,
            "object_fit": null,
            "grid_auto_columns": null,
            "margin": null,
            "display": null,
            "left": null
          }
        },
        "06ca90c251b14f819954d07d796b304f": {
          "model_module": "@jupyter-widgets/controls",
          "model_name": "HTMLModel",
          "model_module_version": "1.5.0",
          "state": {
            "_view_name": "HTMLView",
            "style": "IPY_MODEL_99b8e7da86864d3ea706fe1810956665",
            "_dom_classes": [],
            "description": "",
            "_model_name": "HTMLModel",
            "placeholder": "​",
            "_view_module": "@jupyter-widgets/controls",
            "_model_module_version": "1.5.0",
            "value": "Downloading: 100%",
            "_view_count": null,
            "_view_module_version": "1.5.0",
            "description_tooltip": null,
            "_model_module": "@jupyter-widgets/controls",
            "layout": "IPY_MODEL_33959a339ea94476a4fc975330eee8f8"
          }
        },
        "86200bde5edd4395925c1957e79505e8": {
          "model_module": "@jupyter-widgets/controls",
          "model_name": "FloatProgressModel",
          "model_module_version": "1.5.0",
          "state": {
            "_view_name": "ProgressView",
            "style": "IPY_MODEL_a937b24d24d64b3383db2edafa09b1a5",
            "_dom_classes": [],
            "description": "",
            "_model_name": "FloatProgressModel",
            "bar_style": "success",
            "max": 570,
            "_view_module": "@jupyter-widgets/controls",
            "_model_module_version": "1.5.0",
            "value": 570,
            "_view_count": null,
            "_view_module_version": "1.5.0",
            "orientation": "horizontal",
            "min": 0,
            "description_tooltip": null,
            "_model_module": "@jupyter-widgets/controls",
            "layout": "IPY_MODEL_e38d951ef0674df3b4e93caa27b42ce1"
          }
        },
        "23012acdaa6443fcbaa89611e1e40cea": {
          "model_module": "@jupyter-widgets/controls",
          "model_name": "HTMLModel",
          "model_module_version": "1.5.0",
          "state": {
            "_view_name": "HTMLView",
            "style": "IPY_MODEL_f01f09419813401b87f39ab7ef771ed5",
            "_dom_classes": [],
            "description": "",
            "_model_name": "HTMLModel",
            "placeholder": "​",
            "_view_module": "@jupyter-widgets/controls",
            "_model_module_version": "1.5.0",
            "value": " 570/570 [00:00&lt;00:00, 8.78kB/s]",
            "_view_count": null,
            "_view_module_version": "1.5.0",
            "description_tooltip": null,
            "_model_module": "@jupyter-widgets/controls",
            "layout": "IPY_MODEL_343944f2c3f34fd7977be3c3fea2a53e"
          }
        },
        "99b8e7da86864d3ea706fe1810956665": {
          "model_module": "@jupyter-widgets/controls",
          "model_name": "DescriptionStyleModel",
          "model_module_version": "1.5.0",
          "state": {
            "_view_name": "StyleView",
            "_model_name": "DescriptionStyleModel",
            "description_width": "",
            "_view_module": "@jupyter-widgets/base",
            "_model_module_version": "1.5.0",
            "_view_count": null,
            "_view_module_version": "1.2.0",
            "_model_module": "@jupyter-widgets/controls"
          }
        },
        "33959a339ea94476a4fc975330eee8f8": {
          "model_module": "@jupyter-widgets/base",
          "model_name": "LayoutModel",
          "model_module_version": "1.2.0",
          "state": {
            "_view_name": "LayoutView",
            "grid_template_rows": null,
            "right": null,
            "justify_content": null,
            "_view_module": "@jupyter-widgets/base",
            "overflow": null,
            "_model_module_version": "1.2.0",
            "_view_count": null,
            "flex_flow": null,
            "width": null,
            "min_width": null,
            "border": null,
            "align_items": null,
            "bottom": null,
            "_model_module": "@jupyter-widgets/base",
            "top": null,
            "grid_column": null,
            "overflow_y": null,
            "overflow_x": null,
            "grid_auto_flow": null,
            "grid_area": null,
            "grid_template_columns": null,
            "flex": null,
            "_model_name": "LayoutModel",
            "justify_items": null,
            "grid_row": null,
            "max_height": null,
            "align_content": null,
            "visibility": null,
            "align_self": null,
            "height": null,
            "min_height": null,
            "padding": null,
            "grid_auto_rows": null,
            "grid_gap": null,
            "max_width": null,
            "order": null,
            "_view_module_version": "1.2.0",
            "grid_template_areas": null,
            "object_position": null,
            "object_fit": null,
            "grid_auto_columns": null,
            "margin": null,
            "display": null,
            "left": null
          }
        },
        "a937b24d24d64b3383db2edafa09b1a5": {
          "model_module": "@jupyter-widgets/controls",
          "model_name": "ProgressStyleModel",
          "model_module_version": "1.5.0",
          "state": {
            "_view_name": "StyleView",
            "_model_name": "ProgressStyleModel",
            "description_width": "",
            "_view_module": "@jupyter-widgets/base",
            "_model_module_version": "1.5.0",
            "_view_count": null,
            "_view_module_version": "1.2.0",
            "bar_color": null,
            "_model_module": "@jupyter-widgets/controls"
          }
        },
        "e38d951ef0674df3b4e93caa27b42ce1": {
          "model_module": "@jupyter-widgets/base",
          "model_name": "LayoutModel",
          "model_module_version": "1.2.0",
          "state": {
            "_view_name": "LayoutView",
            "grid_template_rows": null,
            "right": null,
            "justify_content": null,
            "_view_module": "@jupyter-widgets/base",
            "overflow": null,
            "_model_module_version": "1.2.0",
            "_view_count": null,
            "flex_flow": null,
            "width": null,
            "min_width": null,
            "border": null,
            "align_items": null,
            "bottom": null,
            "_model_module": "@jupyter-widgets/base",
            "top": null,
            "grid_column": null,
            "overflow_y": null,
            "overflow_x": null,
            "grid_auto_flow": null,
            "grid_area": null,
            "grid_template_columns": null,
            "flex": null,
            "_model_name": "LayoutModel",
            "justify_items": null,
            "grid_row": null,
            "max_height": null,
            "align_content": null,
            "visibility": null,
            "align_self": null,
            "height": null,
            "min_height": null,
            "padding": null,
            "grid_auto_rows": null,
            "grid_gap": null,
            "max_width": null,
            "order": null,
            "_view_module_version": "1.2.0",
            "grid_template_areas": null,
            "object_position": null,
            "object_fit": null,
            "grid_auto_columns": null,
            "margin": null,
            "display": null,
            "left": null
          }
        },
        "f01f09419813401b87f39ab7ef771ed5": {
          "model_module": "@jupyter-widgets/controls",
          "model_name": "DescriptionStyleModel",
          "model_module_version": "1.5.0",
          "state": {
            "_view_name": "StyleView",
            "_model_name": "DescriptionStyleModel",
            "description_width": "",
            "_view_module": "@jupyter-widgets/base",
            "_model_module_version": "1.5.0",
            "_view_count": null,
            "_view_module_version": "1.2.0",
            "_model_module": "@jupyter-widgets/controls"
          }
        },
        "343944f2c3f34fd7977be3c3fea2a53e": {
          "model_module": "@jupyter-widgets/base",
          "model_name": "LayoutModel",
          "model_module_version": "1.2.0",
          "state": {
            "_view_name": "LayoutView",
            "grid_template_rows": null,
            "right": null,
            "justify_content": null,
            "_view_module": "@jupyter-widgets/base",
            "overflow": null,
            "_model_module_version": "1.2.0",
            "_view_count": null,
            "flex_flow": null,
            "width": null,
            "min_width": null,
            "border": null,
            "align_items": null,
            "bottom": null,
            "_model_module": "@jupyter-widgets/base",
            "top": null,
            "grid_column": null,
            "overflow_y": null,
            "overflow_x": null,
            "grid_auto_flow": null,
            "grid_area": null,
            "grid_template_columns": null,
            "flex": null,
            "_model_name": "LayoutModel",
            "justify_items": null,
            "grid_row": null,
            "max_height": null,
            "align_content": null,
            "visibility": null,
            "align_self": null,
            "height": null,
            "min_height": null,
            "padding": null,
            "grid_auto_rows": null,
            "grid_gap": null,
            "max_width": null,
            "order": null,
            "_view_module_version": "1.2.0",
            "grid_template_areas": null,
            "object_position": null,
            "object_fit": null,
            "grid_auto_columns": null,
            "margin": null,
            "display": null,
            "left": null
          }
        },
        "521a0a8244f248e68f69a44fd9cba752": {
          "model_module": "@jupyter-widgets/controls",
          "model_name": "HBoxModel",
          "model_module_version": "1.5.0",
          "state": {
            "_view_name": "HBoxView",
            "_dom_classes": [],
            "_model_name": "HBoxModel",
            "_view_module": "@jupyter-widgets/controls",
            "_model_module_version": "1.5.0",
            "_view_count": null,
            "_view_module_version": "1.5.0",
            "box_style": "",
            "layout": "IPY_MODEL_dd267a7d03a448df9322eed6375da733",
            "_model_module": "@jupyter-widgets/controls",
            "children": [
              "IPY_MODEL_f368b7cc1cd44faea502fe1e035a3e59",
              "IPY_MODEL_30d5df6e14f945c7b956cefd984b712f",
              "IPY_MODEL_d251fc882a6e43489ae8305046d79bda"
            ]
          }
        },
        "dd267a7d03a448df9322eed6375da733": {
          "model_module": "@jupyter-widgets/base",
          "model_name": "LayoutModel",
          "model_module_version": "1.2.0",
          "state": {
            "_view_name": "LayoutView",
            "grid_template_rows": null,
            "right": null,
            "justify_content": null,
            "_view_module": "@jupyter-widgets/base",
            "overflow": null,
            "_model_module_version": "1.2.0",
            "_view_count": null,
            "flex_flow": null,
            "width": null,
            "min_width": null,
            "border": null,
            "align_items": null,
            "bottom": null,
            "_model_module": "@jupyter-widgets/base",
            "top": null,
            "grid_column": null,
            "overflow_y": null,
            "overflow_x": null,
            "grid_auto_flow": null,
            "grid_area": null,
            "grid_template_columns": null,
            "flex": null,
            "_model_name": "LayoutModel",
            "justify_items": null,
            "grid_row": null,
            "max_height": null,
            "align_content": null,
            "visibility": null,
            "align_self": null,
            "height": null,
            "min_height": null,
            "padding": null,
            "grid_auto_rows": null,
            "grid_gap": null,
            "max_width": null,
            "order": null,
            "_view_module_version": "1.2.0",
            "grid_template_areas": null,
            "object_position": null,
            "object_fit": null,
            "grid_auto_columns": null,
            "margin": null,
            "display": null,
            "left": null
          }
        },
        "f368b7cc1cd44faea502fe1e035a3e59": {
          "model_module": "@jupyter-widgets/controls",
          "model_name": "HTMLModel",
          "model_module_version": "1.5.0",
          "state": {
            "_view_name": "HTMLView",
            "style": "IPY_MODEL_39ee8076242f447c8160db1e2f9c307b",
            "_dom_classes": [],
            "description": "",
            "_model_name": "HTMLModel",
            "placeholder": "​",
            "_view_module": "@jupyter-widgets/controls",
            "_model_module_version": "1.5.0",
            "value": "Downloading: 100%",
            "_view_count": null,
            "_view_module_version": "1.5.0",
            "description_tooltip": null,
            "_model_module": "@jupyter-widgets/controls",
            "layout": "IPY_MODEL_3a7af4f5da174d11843ad01a56d09d5c"
          }
        },
        "30d5df6e14f945c7b956cefd984b712f": {
          "model_module": "@jupyter-widgets/controls",
          "model_name": "FloatProgressModel",
          "model_module_version": "1.5.0",
          "state": {
            "_view_name": "ProgressView",
            "style": "IPY_MODEL_5f22fcd3160f49a69d84fc3e90fd6ce1",
            "_dom_classes": [],
            "description": "",
            "_model_name": "FloatProgressModel",
            "bar_style": "success",
            "max": 440473133,
            "_view_module": "@jupyter-widgets/controls",
            "_model_module_version": "1.5.0",
            "value": 440473133,
            "_view_count": null,
            "_view_module_version": "1.5.0",
            "orientation": "horizontal",
            "min": 0,
            "description_tooltip": null,
            "_model_module": "@jupyter-widgets/controls",
            "layout": "IPY_MODEL_dd9d389142554982b005d36e74adc73f"
          }
        },
        "d251fc882a6e43489ae8305046d79bda": {
          "model_module": "@jupyter-widgets/controls",
          "model_name": "HTMLModel",
          "model_module_version": "1.5.0",
          "state": {
            "_view_name": "HTMLView",
            "style": "IPY_MODEL_cb81af046267471fa5dca87f32d9d320",
            "_dom_classes": [],
            "description": "",
            "_model_name": "HTMLModel",
            "placeholder": "​",
            "_view_module": "@jupyter-widgets/controls",
            "_model_module_version": "1.5.0",
            "value": " 420M/420M [00:16&lt;00:00, 27.4MB/s]",
            "_view_count": null,
            "_view_module_version": "1.5.0",
            "description_tooltip": null,
            "_model_module": "@jupyter-widgets/controls",
            "layout": "IPY_MODEL_b78c2de343674cdd84dadf6f994febdf"
          }
        },
        "39ee8076242f447c8160db1e2f9c307b": {
          "model_module": "@jupyter-widgets/controls",
          "model_name": "DescriptionStyleModel",
          "model_module_version": "1.5.0",
          "state": {
            "_view_name": "StyleView",
            "_model_name": "DescriptionStyleModel",
            "description_width": "",
            "_view_module": "@jupyter-widgets/base",
            "_model_module_version": "1.5.0",
            "_view_count": null,
            "_view_module_version": "1.2.0",
            "_model_module": "@jupyter-widgets/controls"
          }
        },
        "3a7af4f5da174d11843ad01a56d09d5c": {
          "model_module": "@jupyter-widgets/base",
          "model_name": "LayoutModel",
          "model_module_version": "1.2.0",
          "state": {
            "_view_name": "LayoutView",
            "grid_template_rows": null,
            "right": null,
            "justify_content": null,
            "_view_module": "@jupyter-widgets/base",
            "overflow": null,
            "_model_module_version": "1.2.0",
            "_view_count": null,
            "flex_flow": null,
            "width": null,
            "min_width": null,
            "border": null,
            "align_items": null,
            "bottom": null,
            "_model_module": "@jupyter-widgets/base",
            "top": null,
            "grid_column": null,
            "overflow_y": null,
            "overflow_x": null,
            "grid_auto_flow": null,
            "grid_area": null,
            "grid_template_columns": null,
            "flex": null,
            "_model_name": "LayoutModel",
            "justify_items": null,
            "grid_row": null,
            "max_height": null,
            "align_content": null,
            "visibility": null,
            "align_self": null,
            "height": null,
            "min_height": null,
            "padding": null,
            "grid_auto_rows": null,
            "grid_gap": null,
            "max_width": null,
            "order": null,
            "_view_module_version": "1.2.0",
            "grid_template_areas": null,
            "object_position": null,
            "object_fit": null,
            "grid_auto_columns": null,
            "margin": null,
            "display": null,
            "left": null
          }
        },
        "5f22fcd3160f49a69d84fc3e90fd6ce1": {
          "model_module": "@jupyter-widgets/controls",
          "model_name": "ProgressStyleModel",
          "model_module_version": "1.5.0",
          "state": {
            "_view_name": "StyleView",
            "_model_name": "ProgressStyleModel",
            "description_width": "",
            "_view_module": "@jupyter-widgets/base",
            "_model_module_version": "1.5.0",
            "_view_count": null,
            "_view_module_version": "1.2.0",
            "bar_color": null,
            "_model_module": "@jupyter-widgets/controls"
          }
        },
        "dd9d389142554982b005d36e74adc73f": {
          "model_module": "@jupyter-widgets/base",
          "model_name": "LayoutModel",
          "model_module_version": "1.2.0",
          "state": {
            "_view_name": "LayoutView",
            "grid_template_rows": null,
            "right": null,
            "justify_content": null,
            "_view_module": "@jupyter-widgets/base",
            "overflow": null,
            "_model_module_version": "1.2.0",
            "_view_count": null,
            "flex_flow": null,
            "width": null,
            "min_width": null,
            "border": null,
            "align_items": null,
            "bottom": null,
            "_model_module": "@jupyter-widgets/base",
            "top": null,
            "grid_column": null,
            "overflow_y": null,
            "overflow_x": null,
            "grid_auto_flow": null,
            "grid_area": null,
            "grid_template_columns": null,
            "flex": null,
            "_model_name": "LayoutModel",
            "justify_items": null,
            "grid_row": null,
            "max_height": null,
            "align_content": null,
            "visibility": null,
            "align_self": null,
            "height": null,
            "min_height": null,
            "padding": null,
            "grid_auto_rows": null,
            "grid_gap": null,
            "max_width": null,
            "order": null,
            "_view_module_version": "1.2.0",
            "grid_template_areas": null,
            "object_position": null,
            "object_fit": null,
            "grid_auto_columns": null,
            "margin": null,
            "display": null,
            "left": null
          }
        },
        "cb81af046267471fa5dca87f32d9d320": {
          "model_module": "@jupyter-widgets/controls",
          "model_name": "DescriptionStyleModel",
          "model_module_version": "1.5.0",
          "state": {
            "_view_name": "StyleView",
            "_model_name": "DescriptionStyleModel",
            "description_width": "",
            "_view_module": "@jupyter-widgets/base",
            "_model_module_version": "1.5.0",
            "_view_count": null,
            "_view_module_version": "1.2.0",
            "_model_module": "@jupyter-widgets/controls"
          }
        },
        "b78c2de343674cdd84dadf6f994febdf": {
          "model_module": "@jupyter-widgets/base",
          "model_name": "LayoutModel",
          "model_module_version": "1.2.0",
          "state": {
            "_view_name": "LayoutView",
            "grid_template_rows": null,
            "right": null,
            "justify_content": null,
            "_view_module": "@jupyter-widgets/base",
            "overflow": null,
            "_model_module_version": "1.2.0",
            "_view_count": null,
            "flex_flow": null,
            "width": null,
            "min_width": null,
            "border": null,
            "align_items": null,
            "bottom": null,
            "_model_module": "@jupyter-widgets/base",
            "top": null,
            "grid_column": null,
            "overflow_y": null,
            "overflow_x": null,
            "grid_auto_flow": null,
            "grid_area": null,
            "grid_template_columns": null,
            "flex": null,
            "_model_name": "LayoutModel",
            "justify_items": null,
            "grid_row": null,
            "max_height": null,
            "align_content": null,
            "visibility": null,
            "align_self": null,
            "height": null,
            "min_height": null,
            "padding": null,
            "grid_auto_rows": null,
            "grid_gap": null,
            "max_width": null,
            "order": null,
            "_view_module_version": "1.2.0",
            "grid_template_areas": null,
            "object_position": null,
            "object_fit": null,
            "grid_auto_columns": null,
            "margin": null,
            "display": null,
            "left": null
          }
        }
      }
    }
  },
  "cells": [
    {
      "cell_type": "code",
      "metadata": {
        "id": "O_j5MxGHsc-0",
        "colab": {
          "base_uri": "https://localhost:8080/"
        },
        "outputId": "99b6fcb8-cd1c-4b63-8a67-74fddb3d6f79"
      },
      "source": [
        "# Sai, Ravali\n",
        "# MOST of this code came straight from ChronoBERT Amy Olex who used the \n",
        "# Fine-Tuning BERT Tutorial by Chris McCormick at\n",
        "# https://mccormickml.com/2019/07/22/BERT-fine-tuning/\n",
        "\n",
        "\n",
        "\n",
        "!pip install transformers\n",
        "!pip install utils\n",
        "\n",
        "import argparse\n",
        "import tensorflow as tf\n",
        "import torch\n",
        "import sklearn\n",
        "from torch.utils.data import TensorDataset, DataLoader, RandomSampler\n",
        "from sklearn.metrics import classification_report\n",
        "from transformers import BertTokenizer, get_linear_schedule_with_warmup, AutoTokenizer\n",
        "from transformers import AdamW, BertForSequenceClassification, AutoModelForSequenceClassification\n",
        "from transformers import BertModel, BertConfig\n",
        "from tqdm import tqdm, trange\n",
        "import pandas as pd\n",
        "import numpy as np\n",
        "import matplotlib.pyplot as plt\n",
        "import utils\n",
        "from math import floor\n",
        "from sklearn.metrics import matthews_corrcoef\n",
        "import seaborn as sns\n",
        "import os\n",
        "import io\n",
        "from google.colab import auth\n",
        "from googleapiclient.discovery import build\n",
        "from io import FileIO\n",
        "from googleapiclient.http import MediaIoBaseDownload\n",
        "from sklearn.metrics import accuracy_score, recall_score, precision_score, f1_score\n",
        "from transformers import EarlyStoppingCallback\n",
        "from sklearn.naive_bayes import GaussianNB\n",
        "from sklearn.ensemble import RandomForestClassifier\n"
      ],
      "execution_count": 1,
      "outputs": [
        {
          "output_type": "stream",
          "name": "stdout",
          "text": [
            "Collecting transformers\n",
            "  Downloading transformers-4.12.5-py3-none-any.whl (3.1 MB)\n",
            "\u001b[K     |████████████████████████████████| 3.1 MB 5.5 MB/s \n",
            "\u001b[?25hRequirement already satisfied: filelock in /usr/local/lib/python3.7/dist-packages (from transformers) (3.4.0)\n",
            "Requirement already satisfied: requests in /usr/local/lib/python3.7/dist-packages (from transformers) (2.23.0)\n",
            "Collecting pyyaml>=5.1\n",
            "  Downloading PyYAML-6.0-cp37-cp37m-manylinux_2_5_x86_64.manylinux1_x86_64.manylinux_2_12_x86_64.manylinux2010_x86_64.whl (596 kB)\n",
            "\u001b[K     |████████████████████████████████| 596 kB 41.2 MB/s \n",
            "\u001b[?25hCollecting tokenizers<0.11,>=0.10.1\n",
            "  Downloading tokenizers-0.10.3-cp37-cp37m-manylinux_2_5_x86_64.manylinux1_x86_64.manylinux_2_12_x86_64.manylinux2010_x86_64.whl (3.3 MB)\n",
            "\u001b[K     |████████████████████████████████| 3.3 MB 35.0 MB/s \n",
            "\u001b[?25hRequirement already satisfied: numpy>=1.17 in /usr/local/lib/python3.7/dist-packages (from transformers) (1.19.5)\n",
            "Collecting huggingface-hub<1.0,>=0.1.0\n",
            "  Downloading huggingface_hub-0.2.1-py3-none-any.whl (61 kB)\n",
            "\u001b[K     |████████████████████████████████| 61 kB 341 kB/s \n",
            "\u001b[?25hRequirement already satisfied: regex!=2019.12.17 in /usr/local/lib/python3.7/dist-packages (from transformers) (2019.12.20)\n",
            "Collecting sacremoses\n",
            "  Downloading sacremoses-0.0.46-py3-none-any.whl (895 kB)\n",
            "\u001b[K     |████████████████████████████████| 895 kB 38.4 MB/s \n",
            "\u001b[?25hRequirement already satisfied: importlib-metadata in /usr/local/lib/python3.7/dist-packages (from transformers) (4.8.2)\n",
            "Requirement already satisfied: packaging>=20.0 in /usr/local/lib/python3.7/dist-packages (from transformers) (21.3)\n",
            "Requirement already satisfied: tqdm>=4.27 in /usr/local/lib/python3.7/dist-packages (from transformers) (4.62.3)\n",
            "Requirement already satisfied: typing-extensions>=3.7.4.3 in /usr/local/lib/python3.7/dist-packages (from huggingface-hub<1.0,>=0.1.0->transformers) (3.10.0.2)\n",
            "Requirement already satisfied: pyparsing!=3.0.5,>=2.0.2 in /usr/local/lib/python3.7/dist-packages (from packaging>=20.0->transformers) (3.0.6)\n",
            "Requirement already satisfied: zipp>=0.5 in /usr/local/lib/python3.7/dist-packages (from importlib-metadata->transformers) (3.6.0)\n",
            "Requirement already satisfied: chardet<4,>=3.0.2 in /usr/local/lib/python3.7/dist-packages (from requests->transformers) (3.0.4)\n",
            "Requirement already satisfied: urllib3!=1.25.0,!=1.25.1,<1.26,>=1.21.1 in /usr/local/lib/python3.7/dist-packages (from requests->transformers) (1.24.3)\n",
            "Requirement already satisfied: certifi>=2017.4.17 in /usr/local/lib/python3.7/dist-packages (from requests->transformers) (2021.10.8)\n",
            "Requirement already satisfied: idna<3,>=2.5 in /usr/local/lib/python3.7/dist-packages (from requests->transformers) (2.10)\n",
            "Requirement already satisfied: six in /usr/local/lib/python3.7/dist-packages (from sacremoses->transformers) (1.15.0)\n",
            "Requirement already satisfied: click in /usr/local/lib/python3.7/dist-packages (from sacremoses->transformers) (7.1.2)\n",
            "Requirement already satisfied: joblib in /usr/local/lib/python3.7/dist-packages (from sacremoses->transformers) (1.1.0)\n",
            "Installing collected packages: pyyaml, tokenizers, sacremoses, huggingface-hub, transformers\n",
            "  Attempting uninstall: pyyaml\n",
            "    Found existing installation: PyYAML 3.13\n",
            "    Uninstalling PyYAML-3.13:\n",
            "      Successfully uninstalled PyYAML-3.13\n",
            "Successfully installed huggingface-hub-0.2.1 pyyaml-6.0 sacremoses-0.0.46 tokenizers-0.10.3 transformers-4.12.5\n",
            "Collecting utils\n",
            "  Downloading utils-1.0.1-py2.py3-none-any.whl (21 kB)\n",
            "Installing collected packages: utils\n",
            "Successfully installed utils-1.0.1\n"
          ]
        }
      ]
    },
    {
      "cell_type": "code",
      "metadata": {
        "id": "7XifGhC4xQL1",
        "colab": {
          "base_uri": "https://localhost:8080/"
        },
        "outputId": "f0cafd52-f097-4d74-9d31-cbb653996f8b"
      },
      "source": [
        "#  Get the files from the google drive\n",
        "auth.authenticate_user()\n",
        "drive_service = build('drive', 'v3')\n",
        "\n",
        "# Get train data file\n",
        "file_id = '11-ZRHPVBWMhMdBXEqjBqVPdTvaZOLLxc'  # Training file on the Google Drive\n",
        "downloaded = io.FileIO(\"Humor_Train_Data.csv\", 'w')\n",
        "request = drive_service.files().get_media(fileId=file_id)\n",
        "downloader = MediaIoBaseDownload(downloaded, request)\n",
        "done = False\n",
        "while done is False:\n",
        "  status, done = downloader.next_chunk()\n",
        "  print(\"Download {}%.\".format(int(status.progress() * 100)))\n",
        "\n",
        "# Get test data file\n",
        "file_id = '140hmlr6pZhZXKTgnCkMOnMDsjGdgRX1a'  # Training file on the Google Drive\n",
        "downloaded = io.FileIO(\"Humor_CorrectEstimation_Data.csv\", 'w')\n",
        "request = drive_service.files().get_media(fileId=file_id)\n",
        "downloader = MediaIoBaseDownload(downloaded, request)\n",
        "done = False\n",
        "while done is False:\n",
        "  status, done = downloader.next_chunk()\n",
        "  print(\"Download {}%.\".format(int(status.progress() * 100)))\n",
        "\n"
      ],
      "execution_count": 3,
      "outputs": [
        {
          "output_type": "stream",
          "name": "stdout",
          "text": [
            "Download 100%.\n",
            "Download 100%.\n"
          ]
        }
      ]
    },
    {
      "cell_type": "code",
      "metadata": {
        "id": "AoWa8W7q4KHe",
        "colab": {
          "base_uri": "https://localhost:8080/",
          "height": 1000,
          "referenced_widgets": [
            "4590da4e5f6346eb882b22d469918a5c",
            "22c10f57912840bc9b5f8cb69c72e5bd",
            "2adae57c80074001927f3c41e7e61fac",
            "7d898e969b02401e8cc36d8424bfa500",
            "55d54353e25f49f88ea21e13ffe4d302",
            "f58ca2efd7564882ad6e17e59ad5f5c5",
            "51abe802f4324706951aad05e5e959dd",
            "23570d091d9b422295b7b4a1306ed70f",
            "2fe796e05f1f49e8b185fe0f8d8bb429",
            "07da8ac1656f4b7a974fd652fd3a55e7",
            "3b275110467346df8de80283532d3a6e",
            "97ead11edb86497abda31cfcbf7db8ed",
            "915e33c3815048bcbf662aa7272fe3f5",
            "1859b308425c467c95429e7ec3357ff6",
            "ddc5bdc07c0540a08e89944a86456616",
            "f4fb3237cda04e6fa831a13010da7a18",
            "4914167f30234a528c4f72dc43a9a130",
            "2661db563c8f40b8a552ff4734d53727",
            "60d8c8b99d574384b51c929c5356efb8",
            "f1ae7c25cbfc43e18a52b9603bf0c437",
            "3b5cb3205bbc415d853db4ec680c75d8",
            "94a93a5f497d453e9a5ba3614a6d72c8",
            "7cca641ab3e6491da125129a9124f257",
            "cc6a25baab504e7db8ffac4ad1462202",
            "9bcb1cc681c64280a002859fdc51bcda",
            "eab1a3961ce443ef8b93cc38a3a29ba7",
            "abc11c8b720f4b2fbc0da7f69206939e",
            "1044dcede5d4423c9b719bfb22418455",
            "0c71063552b744b79204bdb85eb6cad9",
            "88a7da0f880b434682699598c0ca65be",
            "1f884099c3244c60854b05b1f90648df",
            "5bdd8159162447d8937f1d04bffdf830",
            "9d0c8285425042579a95ec1772f08d4d",
            "9abe32ace575479da509fa2795956d58",
            "4fff0931ac4b4bf0ab23d8ccb42ffbce",
            "06ca90c251b14f819954d07d796b304f",
            "86200bde5edd4395925c1957e79505e8",
            "23012acdaa6443fcbaa89611e1e40cea",
            "99b8e7da86864d3ea706fe1810956665",
            "33959a339ea94476a4fc975330eee8f8",
            "a937b24d24d64b3383db2edafa09b1a5",
            "e38d951ef0674df3b4e93caa27b42ce1",
            "f01f09419813401b87f39ab7ef771ed5",
            "343944f2c3f34fd7977be3c3fea2a53e",
            "521a0a8244f248e68f69a44fd9cba752",
            "dd267a7d03a448df9322eed6375da733",
            "f368b7cc1cd44faea502fe1e035a3e59",
            "30d5df6e14f945c7b956cefd984b712f",
            "d251fc882a6e43489ae8305046d79bda",
            "39ee8076242f447c8160db1e2f9c307b",
            "3a7af4f5da174d11843ad01a56d09d5c",
            "5f22fcd3160f49a69d84fc3e90fd6ce1",
            "dd9d389142554982b005d36e74adc73f",
            "cb81af046267471fa5dca87f32d9d320",
            "b78c2de343674cdd84dadf6f994febdf"
          ]
        },
        "outputId": "b1d55d98-5d09-47fb-b51b-4dab306170cf"
      },
      "source": [
        "# set the hyperparameters\n",
        "batch_size = 32\n",
        "max_length = 256\n",
        "epochs = 2\n",
        "\n",
        "#  load tokenizer\n",
        "tokenizer = BertTokenizer.from_pretrained(\"bert-base-uncased\")\n",
        "\n",
        "#  load model\n",
        "model = BertForSequenceClassification.from_pretrained(\"bert-base-uncased\", num_labels=2)\n",
        "\n",
        "#  set device\n",
        "device = torch.device('cuda' if torch.cuda.is_available() else 'cpu')\n",
        "model.to(device)\n"
      ],
      "execution_count": 4,
      "outputs": [
        {
          "output_type": "display_data",
          "data": {
            "application/vnd.jupyter.widget-view+json": {
              "model_id": "4590da4e5f6346eb882b22d469918a5c",
              "version_minor": 0,
              "version_major": 2
            },
            "text/plain": [
              "Downloading:   0%|          | 0.00/226k [00:00<?, ?B/s]"
            ]
          },
          "metadata": {}
        },
        {
          "output_type": "display_data",
          "data": {
            "application/vnd.jupyter.widget-view+json": {
              "model_id": "97ead11edb86497abda31cfcbf7db8ed",
              "version_minor": 0,
              "version_major": 2
            },
            "text/plain": [
              "Downloading:   0%|          | 0.00/28.0 [00:00<?, ?B/s]"
            ]
          },
          "metadata": {}
        },
        {
          "output_type": "display_data",
          "data": {
            "application/vnd.jupyter.widget-view+json": {
              "model_id": "7cca641ab3e6491da125129a9124f257",
              "version_minor": 0,
              "version_major": 2
            },
            "text/plain": [
              "Downloading:   0%|          | 0.00/455k [00:00<?, ?B/s]"
            ]
          },
          "metadata": {}
        },
        {
          "output_type": "display_data",
          "data": {
            "application/vnd.jupyter.widget-view+json": {
              "model_id": "9abe32ace575479da509fa2795956d58",
              "version_minor": 0,
              "version_major": 2
            },
            "text/plain": [
              "Downloading:   0%|          | 0.00/570 [00:00<?, ?B/s]"
            ]
          },
          "metadata": {}
        },
        {
          "output_type": "display_data",
          "data": {
            "application/vnd.jupyter.widget-view+json": {
              "model_id": "521a0a8244f248e68f69a44fd9cba752",
              "version_minor": 0,
              "version_major": 2
            },
            "text/plain": [
              "Downloading:   0%|          | 0.00/420M [00:00<?, ?B/s]"
            ]
          },
          "metadata": {}
        },
        {
          "output_type": "stream",
          "name": "stderr",
          "text": [
            "Some weights of the model checkpoint at bert-base-uncased were not used when initializing BertForSequenceClassification: ['cls.predictions.decoder.weight', 'cls.seq_relationship.weight', 'cls.seq_relationship.bias', 'cls.predictions.transform.dense.bias', 'cls.predictions.transform.LayerNorm.bias', 'cls.predictions.bias', 'cls.predictions.transform.dense.weight', 'cls.predictions.transform.LayerNorm.weight']\n",
            "- This IS expected if you are initializing BertForSequenceClassification from the checkpoint of a model trained on another task or with another architecture (e.g. initializing a BertForSequenceClassification model from a BertForPreTraining model).\n",
            "- This IS NOT expected if you are initializing BertForSequenceClassification from the checkpoint of a model that you expect to be exactly identical (initializing a BertForSequenceClassification model from a BertForSequenceClassification model).\n",
            "Some weights of BertForSequenceClassification were not initialized from the model checkpoint at bert-base-uncased and are newly initialized: ['classifier.weight', 'classifier.bias']\n",
            "You should probably TRAIN this model on a down-stream task to be able to use it for predictions and inference.\n"
          ]
        },
        {
          "output_type": "execute_result",
          "data": {
            "text/plain": [
              "BertForSequenceClassification(\n",
              "  (bert): BertModel(\n",
              "    (embeddings): BertEmbeddings(\n",
              "      (word_embeddings): Embedding(30522, 768, padding_idx=0)\n",
              "      (position_embeddings): Embedding(512, 768)\n",
              "      (token_type_embeddings): Embedding(2, 768)\n",
              "      (LayerNorm): LayerNorm((768,), eps=1e-12, elementwise_affine=True)\n",
              "      (dropout): Dropout(p=0.1, inplace=False)\n",
              "    )\n",
              "    (encoder): BertEncoder(\n",
              "      (layer): ModuleList(\n",
              "        (0): BertLayer(\n",
              "          (attention): BertAttention(\n",
              "            (self): BertSelfAttention(\n",
              "              (query): Linear(in_features=768, out_features=768, bias=True)\n",
              "              (key): Linear(in_features=768, out_features=768, bias=True)\n",
              "              (value): Linear(in_features=768, out_features=768, bias=True)\n",
              "              (dropout): Dropout(p=0.1, inplace=False)\n",
              "            )\n",
              "            (output): BertSelfOutput(\n",
              "              (dense): Linear(in_features=768, out_features=768, bias=True)\n",
              "              (LayerNorm): LayerNorm((768,), eps=1e-12, elementwise_affine=True)\n",
              "              (dropout): Dropout(p=0.1, inplace=False)\n",
              "            )\n",
              "          )\n",
              "          (intermediate): BertIntermediate(\n",
              "            (dense): Linear(in_features=768, out_features=3072, bias=True)\n",
              "          )\n",
              "          (output): BertOutput(\n",
              "            (dense): Linear(in_features=3072, out_features=768, bias=True)\n",
              "            (LayerNorm): LayerNorm((768,), eps=1e-12, elementwise_affine=True)\n",
              "            (dropout): Dropout(p=0.1, inplace=False)\n",
              "          )\n",
              "        )\n",
              "        (1): BertLayer(\n",
              "          (attention): BertAttention(\n",
              "            (self): BertSelfAttention(\n",
              "              (query): Linear(in_features=768, out_features=768, bias=True)\n",
              "              (key): Linear(in_features=768, out_features=768, bias=True)\n",
              "              (value): Linear(in_features=768, out_features=768, bias=True)\n",
              "              (dropout): Dropout(p=0.1, inplace=False)\n",
              "            )\n",
              "            (output): BertSelfOutput(\n",
              "              (dense): Linear(in_features=768, out_features=768, bias=True)\n",
              "              (LayerNorm): LayerNorm((768,), eps=1e-12, elementwise_affine=True)\n",
              "              (dropout): Dropout(p=0.1, inplace=False)\n",
              "            )\n",
              "          )\n",
              "          (intermediate): BertIntermediate(\n",
              "            (dense): Linear(in_features=768, out_features=3072, bias=True)\n",
              "          )\n",
              "          (output): BertOutput(\n",
              "            (dense): Linear(in_features=3072, out_features=768, bias=True)\n",
              "            (LayerNorm): LayerNorm((768,), eps=1e-12, elementwise_affine=True)\n",
              "            (dropout): Dropout(p=0.1, inplace=False)\n",
              "          )\n",
              "        )\n",
              "        (2): BertLayer(\n",
              "          (attention): BertAttention(\n",
              "            (self): BertSelfAttention(\n",
              "              (query): Linear(in_features=768, out_features=768, bias=True)\n",
              "              (key): Linear(in_features=768, out_features=768, bias=True)\n",
              "              (value): Linear(in_features=768, out_features=768, bias=True)\n",
              "              (dropout): Dropout(p=0.1, inplace=False)\n",
              "            )\n",
              "            (output): BertSelfOutput(\n",
              "              (dense): Linear(in_features=768, out_features=768, bias=True)\n",
              "              (LayerNorm): LayerNorm((768,), eps=1e-12, elementwise_affine=True)\n",
              "              (dropout): Dropout(p=0.1, inplace=False)\n",
              "            )\n",
              "          )\n",
              "          (intermediate): BertIntermediate(\n",
              "            (dense): Linear(in_features=768, out_features=3072, bias=True)\n",
              "          )\n",
              "          (output): BertOutput(\n",
              "            (dense): Linear(in_features=3072, out_features=768, bias=True)\n",
              "            (LayerNorm): LayerNorm((768,), eps=1e-12, elementwise_affine=True)\n",
              "            (dropout): Dropout(p=0.1, inplace=False)\n",
              "          )\n",
              "        )\n",
              "        (3): BertLayer(\n",
              "          (attention): BertAttention(\n",
              "            (self): BertSelfAttention(\n",
              "              (query): Linear(in_features=768, out_features=768, bias=True)\n",
              "              (key): Linear(in_features=768, out_features=768, bias=True)\n",
              "              (value): Linear(in_features=768, out_features=768, bias=True)\n",
              "              (dropout): Dropout(p=0.1, inplace=False)\n",
              "            )\n",
              "            (output): BertSelfOutput(\n",
              "              (dense): Linear(in_features=768, out_features=768, bias=True)\n",
              "              (LayerNorm): LayerNorm((768,), eps=1e-12, elementwise_affine=True)\n",
              "              (dropout): Dropout(p=0.1, inplace=False)\n",
              "            )\n",
              "          )\n",
              "          (intermediate): BertIntermediate(\n",
              "            (dense): Linear(in_features=768, out_features=3072, bias=True)\n",
              "          )\n",
              "          (output): BertOutput(\n",
              "            (dense): Linear(in_features=3072, out_features=768, bias=True)\n",
              "            (LayerNorm): LayerNorm((768,), eps=1e-12, elementwise_affine=True)\n",
              "            (dropout): Dropout(p=0.1, inplace=False)\n",
              "          )\n",
              "        )\n",
              "        (4): BertLayer(\n",
              "          (attention): BertAttention(\n",
              "            (self): BertSelfAttention(\n",
              "              (query): Linear(in_features=768, out_features=768, bias=True)\n",
              "              (key): Linear(in_features=768, out_features=768, bias=True)\n",
              "              (value): Linear(in_features=768, out_features=768, bias=True)\n",
              "              (dropout): Dropout(p=0.1, inplace=False)\n",
              "            )\n",
              "            (output): BertSelfOutput(\n",
              "              (dense): Linear(in_features=768, out_features=768, bias=True)\n",
              "              (LayerNorm): LayerNorm((768,), eps=1e-12, elementwise_affine=True)\n",
              "              (dropout): Dropout(p=0.1, inplace=False)\n",
              "            )\n",
              "          )\n",
              "          (intermediate): BertIntermediate(\n",
              "            (dense): Linear(in_features=768, out_features=3072, bias=True)\n",
              "          )\n",
              "          (output): BertOutput(\n",
              "            (dense): Linear(in_features=3072, out_features=768, bias=True)\n",
              "            (LayerNorm): LayerNorm((768,), eps=1e-12, elementwise_affine=True)\n",
              "            (dropout): Dropout(p=0.1, inplace=False)\n",
              "          )\n",
              "        )\n",
              "        (5): BertLayer(\n",
              "          (attention): BertAttention(\n",
              "            (self): BertSelfAttention(\n",
              "              (query): Linear(in_features=768, out_features=768, bias=True)\n",
              "              (key): Linear(in_features=768, out_features=768, bias=True)\n",
              "              (value): Linear(in_features=768, out_features=768, bias=True)\n",
              "              (dropout): Dropout(p=0.1, inplace=False)\n",
              "            )\n",
              "            (output): BertSelfOutput(\n",
              "              (dense): Linear(in_features=768, out_features=768, bias=True)\n",
              "              (LayerNorm): LayerNorm((768,), eps=1e-12, elementwise_affine=True)\n",
              "              (dropout): Dropout(p=0.1, inplace=False)\n",
              "            )\n",
              "          )\n",
              "          (intermediate): BertIntermediate(\n",
              "            (dense): Linear(in_features=768, out_features=3072, bias=True)\n",
              "          )\n",
              "          (output): BertOutput(\n",
              "            (dense): Linear(in_features=3072, out_features=768, bias=True)\n",
              "            (LayerNorm): LayerNorm((768,), eps=1e-12, elementwise_affine=True)\n",
              "            (dropout): Dropout(p=0.1, inplace=False)\n",
              "          )\n",
              "        )\n",
              "        (6): BertLayer(\n",
              "          (attention): BertAttention(\n",
              "            (self): BertSelfAttention(\n",
              "              (query): Linear(in_features=768, out_features=768, bias=True)\n",
              "              (key): Linear(in_features=768, out_features=768, bias=True)\n",
              "              (value): Linear(in_features=768, out_features=768, bias=True)\n",
              "              (dropout): Dropout(p=0.1, inplace=False)\n",
              "            )\n",
              "            (output): BertSelfOutput(\n",
              "              (dense): Linear(in_features=768, out_features=768, bias=True)\n",
              "              (LayerNorm): LayerNorm((768,), eps=1e-12, elementwise_affine=True)\n",
              "              (dropout): Dropout(p=0.1, inplace=False)\n",
              "            )\n",
              "          )\n",
              "          (intermediate): BertIntermediate(\n",
              "            (dense): Linear(in_features=768, out_features=3072, bias=True)\n",
              "          )\n",
              "          (output): BertOutput(\n",
              "            (dense): Linear(in_features=3072, out_features=768, bias=True)\n",
              "            (LayerNorm): LayerNorm((768,), eps=1e-12, elementwise_affine=True)\n",
              "            (dropout): Dropout(p=0.1, inplace=False)\n",
              "          )\n",
              "        )\n",
              "        (7): BertLayer(\n",
              "          (attention): BertAttention(\n",
              "            (self): BertSelfAttention(\n",
              "              (query): Linear(in_features=768, out_features=768, bias=True)\n",
              "              (key): Linear(in_features=768, out_features=768, bias=True)\n",
              "              (value): Linear(in_features=768, out_features=768, bias=True)\n",
              "              (dropout): Dropout(p=0.1, inplace=False)\n",
              "            )\n",
              "            (output): BertSelfOutput(\n",
              "              (dense): Linear(in_features=768, out_features=768, bias=True)\n",
              "              (LayerNorm): LayerNorm((768,), eps=1e-12, elementwise_affine=True)\n",
              "              (dropout): Dropout(p=0.1, inplace=False)\n",
              "            )\n",
              "          )\n",
              "          (intermediate): BertIntermediate(\n",
              "            (dense): Linear(in_features=768, out_features=3072, bias=True)\n",
              "          )\n",
              "          (output): BertOutput(\n",
              "            (dense): Linear(in_features=3072, out_features=768, bias=True)\n",
              "            (LayerNorm): LayerNorm((768,), eps=1e-12, elementwise_affine=True)\n",
              "            (dropout): Dropout(p=0.1, inplace=False)\n",
              "          )\n",
              "        )\n",
              "        (8): BertLayer(\n",
              "          (attention): BertAttention(\n",
              "            (self): BertSelfAttention(\n",
              "              (query): Linear(in_features=768, out_features=768, bias=True)\n",
              "              (key): Linear(in_features=768, out_features=768, bias=True)\n",
              "              (value): Linear(in_features=768, out_features=768, bias=True)\n",
              "              (dropout): Dropout(p=0.1, inplace=False)\n",
              "            )\n",
              "            (output): BertSelfOutput(\n",
              "              (dense): Linear(in_features=768, out_features=768, bias=True)\n",
              "              (LayerNorm): LayerNorm((768,), eps=1e-12, elementwise_affine=True)\n",
              "              (dropout): Dropout(p=0.1, inplace=False)\n",
              "            )\n",
              "          )\n",
              "          (intermediate): BertIntermediate(\n",
              "            (dense): Linear(in_features=768, out_features=3072, bias=True)\n",
              "          )\n",
              "          (output): BertOutput(\n",
              "            (dense): Linear(in_features=3072, out_features=768, bias=True)\n",
              "            (LayerNorm): LayerNorm((768,), eps=1e-12, elementwise_affine=True)\n",
              "            (dropout): Dropout(p=0.1, inplace=False)\n",
              "          )\n",
              "        )\n",
              "        (9): BertLayer(\n",
              "          (attention): BertAttention(\n",
              "            (self): BertSelfAttention(\n",
              "              (query): Linear(in_features=768, out_features=768, bias=True)\n",
              "              (key): Linear(in_features=768, out_features=768, bias=True)\n",
              "              (value): Linear(in_features=768, out_features=768, bias=True)\n",
              "              (dropout): Dropout(p=0.1, inplace=False)\n",
              "            )\n",
              "            (output): BertSelfOutput(\n",
              "              (dense): Linear(in_features=768, out_features=768, bias=True)\n",
              "              (LayerNorm): LayerNorm((768,), eps=1e-12, elementwise_affine=True)\n",
              "              (dropout): Dropout(p=0.1, inplace=False)\n",
              "            )\n",
              "          )\n",
              "          (intermediate): BertIntermediate(\n",
              "            (dense): Linear(in_features=768, out_features=3072, bias=True)\n",
              "          )\n",
              "          (output): BertOutput(\n",
              "            (dense): Linear(in_features=3072, out_features=768, bias=True)\n",
              "            (LayerNorm): LayerNorm((768,), eps=1e-12, elementwise_affine=True)\n",
              "            (dropout): Dropout(p=0.1, inplace=False)\n",
              "          )\n",
              "        )\n",
              "        (10): BertLayer(\n",
              "          (attention): BertAttention(\n",
              "            (self): BertSelfAttention(\n",
              "              (query): Linear(in_features=768, out_features=768, bias=True)\n",
              "              (key): Linear(in_features=768, out_features=768, bias=True)\n",
              "              (value): Linear(in_features=768, out_features=768, bias=True)\n",
              "              (dropout): Dropout(p=0.1, inplace=False)\n",
              "            )\n",
              "            (output): BertSelfOutput(\n",
              "              (dense): Linear(in_features=768, out_features=768, bias=True)\n",
              "              (LayerNorm): LayerNorm((768,), eps=1e-12, elementwise_affine=True)\n",
              "              (dropout): Dropout(p=0.1, inplace=False)\n",
              "            )\n",
              "          )\n",
              "          (intermediate): BertIntermediate(\n",
              "            (dense): Linear(in_features=768, out_features=3072, bias=True)\n",
              "          )\n",
              "          (output): BertOutput(\n",
              "            (dense): Linear(in_features=3072, out_features=768, bias=True)\n",
              "            (LayerNorm): LayerNorm((768,), eps=1e-12, elementwise_affine=True)\n",
              "            (dropout): Dropout(p=0.1, inplace=False)\n",
              "          )\n",
              "        )\n",
              "        (11): BertLayer(\n",
              "          (attention): BertAttention(\n",
              "            (self): BertSelfAttention(\n",
              "              (query): Linear(in_features=768, out_features=768, bias=True)\n",
              "              (key): Linear(in_features=768, out_features=768, bias=True)\n",
              "              (value): Linear(in_features=768, out_features=768, bias=True)\n",
              "              (dropout): Dropout(p=0.1, inplace=False)\n",
              "            )\n",
              "            (output): BertSelfOutput(\n",
              "              (dense): Linear(in_features=768, out_features=768, bias=True)\n",
              "              (LayerNorm): LayerNorm((768,), eps=1e-12, elementwise_affine=True)\n",
              "              (dropout): Dropout(p=0.1, inplace=False)\n",
              "            )\n",
              "          )\n",
              "          (intermediate): BertIntermediate(\n",
              "            (dense): Linear(in_features=768, out_features=3072, bias=True)\n",
              "          )\n",
              "          (output): BertOutput(\n",
              "            (dense): Linear(in_features=3072, out_features=768, bias=True)\n",
              "            (LayerNorm): LayerNorm((768,), eps=1e-12, elementwise_affine=True)\n",
              "            (dropout): Dropout(p=0.1, inplace=False)\n",
              "          )\n",
              "        )\n",
              "      )\n",
              "    )\n",
              "    (pooler): BertPooler(\n",
              "      (dense): Linear(in_features=768, out_features=768, bias=True)\n",
              "      (activation): Tanh()\n",
              "    )\n",
              "  )\n",
              "  (dropout): Dropout(p=0.1, inplace=False)\n",
              "  (classifier): Linear(in_features=768, out_features=2, bias=True)\n",
              ")"
            ]
          },
          "metadata": {},
          "execution_count": 4
        }
      ]
    },
    {
      "cell_type": "code",
      "metadata": {
        "id": "B7puGRTMyUoL",
        "colab": {
          "base_uri": "https://localhost:8080/",
          "height": 206
        },
        "outputId": "a35df46f-8bee-4906-bf3b-422b0b7fd8bf"
      },
      "source": [
        "# Load the training and test data\n",
        "train_df = pd.read_csv(\"Humor_Train_Data.csv\", delimiter=',', header=None, names=['Humor', 'Text'], )\n",
        "test_df = pd.read_csv(\"Humor_CorrectEstimation_Data.csv\", delimiter=',', header=None, names=['Humor', 'Text'], encoding = 'unicode_escape')\n",
        "\n",
        "# Create sentence and label lists\n",
        "train_instances = train_df.Text.values\n",
        "test_instances = test_df.Text.values\n",
        "\n",
        "#  Conver the labels to numeric values\n",
        "test_df.Humor.replace({\"no\": 0, \"yes\": 1}, inplace=True)\n",
        "train_df.Humor.replace({\"no\": 0, \"yes\": 1}, inplace=True)\n",
        "\n",
        "#  get the label lists\n",
        "train_Humor = train_df.Humor.values\n",
        "test_Humor = test_df.Humor.values\n",
        "\n",
        "train_df.head()\n",
        "\n"
      ],
      "execution_count": 5,
      "outputs": [
        {
          "output_type": "execute_result",
          "data": {
            "text/html": [
              "<div>\n",
              "<style scoped>\n",
              "    .dataframe tbody tr th:only-of-type {\n",
              "        vertical-align: middle;\n",
              "    }\n",
              "\n",
              "    .dataframe tbody tr th {\n",
              "        vertical-align: top;\n",
              "    }\n",
              "\n",
              "    .dataframe thead th {\n",
              "        text-align: right;\n",
              "    }\n",
              "</style>\n",
              "<table border=\"1\" class=\"dataframe\">\n",
              "  <thead>\n",
              "    <tr style=\"text-align: right;\">\n",
              "      <th></th>\n",
              "      <th>Humor</th>\n",
              "      <th>Text</th>\n",
              "    </tr>\n",
              "  </thead>\n",
              "  <tbody>\n",
              "    <tr>\n",
              "      <th>0</th>\n",
              "      <td>0</td>\n",
              "      <td>Joe biden rules out 2020 bid: 'guys, i'm not r...</td>\n",
              "    </tr>\n",
              "    <tr>\n",
              "      <th>1</th>\n",
              "      <td>0</td>\n",
              "      <td>Watch: darvish gave hitter whiplash with slow ...</td>\n",
              "    </tr>\n",
              "    <tr>\n",
              "      <th>2</th>\n",
              "      <td>1</td>\n",
              "      <td>What do you call a turtle without its shell? d...</td>\n",
              "    </tr>\n",
              "    <tr>\n",
              "      <th>3</th>\n",
              "      <td>0</td>\n",
              "      <td>5 reasons the 2016 election feels so personal</td>\n",
              "    </tr>\n",
              "    <tr>\n",
              "      <th>4</th>\n",
              "      <td>0</td>\n",
              "      <td>Pasco police shot mexican migrant from behind,...</td>\n",
              "    </tr>\n",
              "  </tbody>\n",
              "</table>\n",
              "</div>"
            ],
            "text/plain": [
              "   Humor                                               Text\n",
              "0      0  Joe biden rules out 2020 bid: 'guys, i'm not r...\n",
              "1      0  Watch: darvish gave hitter whiplash with slow ...\n",
              "2      1  What do you call a turtle without its shell? d...\n",
              "3      0      5 reasons the 2016 election feels so personal\n",
              "4      0  Pasco police shot mexican migrant from behind,..."
            ]
          },
          "metadata": {},
          "execution_count": 5
        }
      ]
    },
    {
      "cell_type": "code",
      "metadata": {
        "colab": {
          "base_uri": "https://localhost:8080/",
          "height": 206
        },
        "id": "xSX6B8MuY48Q",
        "outputId": "bd701e2c-2d9a-40b4-8532-88c89f5eb6b6"
      },
      "source": [
        "test_df.head()\n"
      ],
      "execution_count": 6,
      "outputs": [
        {
          "output_type": "execute_result",
          "data": {
            "text/html": [
              "<div>\n",
              "<style scoped>\n",
              "    .dataframe tbody tr th:only-of-type {\n",
              "        vertical-align: middle;\n",
              "    }\n",
              "\n",
              "    .dataframe tbody tr th {\n",
              "        vertical-align: top;\n",
              "    }\n",
              "\n",
              "    .dataframe thead th {\n",
              "        text-align: right;\n",
              "    }\n",
              "</style>\n",
              "<table border=\"1\" class=\"dataframe\">\n",
              "  <thead>\n",
              "    <tr style=\"text-align: right;\">\n",
              "      <th></th>\n",
              "      <th>Humor</th>\n",
              "      <th>Text</th>\n",
              "    </tr>\n",
              "  </thead>\n",
              "  <tbody>\n",
              "    <tr>\n",
              "      <th>0</th>\n",
              "      <td>1</td>\n",
              "      <td>What kind of cat should you take into the  des...</td>\n",
              "    </tr>\n",
              "    <tr>\n",
              "      <th>1</th>\n",
              "      <td>1</td>\n",
              "      <td>Remember when people used to have to be in sha...</td>\n",
              "    </tr>\n",
              "    <tr>\n",
              "      <th>2</th>\n",
              "      <td>1</td>\n",
              "      <td>Pizza is always good. - everyone we'll see abo...</td>\n",
              "    </tr>\n",
              "    <tr>\n",
              "      <th>3</th>\n",
              "      <td>1</td>\n",
              "      <td>What's 6 inches long hard, bent, and in my pan...</td>\n",
              "    </tr>\n",
              "    <tr>\n",
              "      <th>4</th>\n",
              "      <td>0</td>\n",
              "      <td>Black teen's response to violence in his commu...</td>\n",
              "    </tr>\n",
              "  </tbody>\n",
              "</table>\n",
              "</div>"
            ],
            "text/plain": [
              "   Humor                                               Text\n",
              "0      1  What kind of cat should you take into the  des...\n",
              "1      1  Remember when people used to have to be in sha...\n",
              "2      1  Pizza is always good. - everyone we'll see abo...\n",
              "3      1  What's 6 inches long hard, bent, and in my pan...\n",
              "4      0  Black teen's response to violence in his commu..."
            ]
          },
          "metadata": {},
          "execution_count": 6
        }
      ]
    },
    {
      "cell_type": "code",
      "metadata": {
        "id": "E8SPcbUiKwZa",
        "colab": {
          "base_uri": "https://localhost:8080/"
        },
        "outputId": "dc249c77-8abb-472f-f3dd-7da53aeb0eb9"
      },
      "source": [
        "#  Set training data\n",
        "print(\"Number of training instances: \" + str(len(train_instances)))\n",
        "    \n",
        "# Get maximum length of sentences\n",
        "max_length = 0\n",
        "# For every sentence...\n",
        "for sent in train_instances:\n",
        "  # Tokenize the text and add `[CLS]` and `[SEP]` tokens.\n",
        "  input_ids = tokenizer.encode(sent, add_special_tokens=True)\n",
        "  # Update the maximum sentence length.\n",
        "  max_length = max(max_length, len(input_ids))\n",
        "\n",
        "train_inputs = [] #index_tensor\n",
        "train_masks = [] #attention tensor\n",
        "train_text = [] #tokenized text\n",
        "\n",
        "# For every sentence...\n",
        "for sent in train_instances:\n",
        "  encoded_dict = tokenizer.encode_plus(\n",
        "       sent,  # Sentence to encode.\n",
        "       add_special_tokens=True,  # Add '[CLS]' and '[SEP]'\n",
        "       max_length=max_length,  # Pad & truncate all sentences.\n",
        "       pad_to_max_length=True,\n",
        "       return_attention_mask=True,  # Construct attn. masks.\n",
        "       return_tensors='pt',  # Return pytorch tensors.\n",
        "       )\n",
        "\n",
        "  # Add the encoded sentence to the list.\n",
        "  train_inputs.append(encoded_dict['input_ids'])\n",
        "  train_masks.append(encoded_dict['attention_mask'])\n",
        "  train_text.append(tokenizer.tokenize(tokenizer.decode(encoded_dict['input_ids'].tolist()[0])))\n",
        "\n",
        "\n",
        "#  Convert to tensors\n",
        "train_inputs = torch.stack(train_inputs).squeeze()\n",
        "train_Humor = torch.tensor(train_Humor)\n",
        "train_masks = torch.stack(train_masks).squeeze()\n",
        "\n",
        "#checking on my shapes\n",
        "#print(train_inputs.shape)\n",
        "#print(train_labels.shape)\n",
        "#print(train_masks.shape)\n",
        "\n",
        "train_data = TensorDataset(train_inputs, train_masks, train_Humor)\n",
        "train_sampler = RandomSampler(train_data)\n",
        "train_dataloader = DataLoader(train_data, sampler=train_sampler, batch_size=16)\n",
        "\n",
        "\n",
        "\n"
      ],
      "execution_count": 7,
      "outputs": [
        {
          "output_type": "stream",
          "name": "stdout",
          "text": [
            "Number of training instances: 634\n"
          ]
        },
        {
          "output_type": "stream",
          "name": "stderr",
          "text": [
            "Truncation was not explicitly activated but `max_length` is provided a specific value, please use `truncation=True` to explicitly truncate examples to max length. Defaulting to 'longest_first' truncation strategy. If you encode pairs of sequences (GLUE-style) with the tokenizer you can select this strategy more precisely by providing a specific strategy to `truncation`.\n",
            "/usr/local/lib/python3.7/dist-packages/transformers/tokenization_utils_base.py:2218: FutureWarning: The `pad_to_max_length` argument is deprecated and will be removed in a future version, use `padding=True` or `padding='longest'` to pad to the longest sequence in the batch, or use `padding='max_length'` to pad to a max length. In this case, you can give a specific length with `max_length` (e.g. `max_length=45`) or leave max_length to None to pad to the maximal input size of the model (e.g. 512 for Bert).\n",
            "  FutureWarning,\n"
          ]
        }
      ]
    },
    {
      "cell_type": "code",
      "metadata": {
        "id": "_9flFjiYWdds",
        "colab": {
          "base_uri": "https://localhost:8080/"
        },
        "outputId": "93292f65-e33e-477c-d3d7-137d29569c05"
      },
      "source": [
        "#  Set testing data\n",
        "print(\"Number of testing instances: \" + str(len(test_instances)))\n",
        "    \n",
        "# Get maximum length of sentences\n",
        "max_length = 0\n",
        "# For every sentence...\n",
        "for sent in test_instances:\n",
        "  # Tokenize the text and add `[CLS]` and `[SEP]` tokens.\n",
        "  input_ids = tokenizer.encode(sent, add_special_tokens=True)\n",
        "  # Update the maximum sentence length.\n",
        "  max_length = max(max_length, len(input_ids))\n",
        "\n",
        "test_inputs = [] #index_tensor\n",
        "test_masks = [] #attention tensor\n",
        "test_text = [] #tokenized text\n",
        "\n",
        "# For every sentence...\n",
        "for sent in test_instances:\n",
        "  encoded_dict = tokenizer.encode_plus(\n",
        "       sent,  # Sentence to encode.\n",
        "       add_special_tokens=True,  # Add '[CLS]' and '[SEP]'\n",
        "       max_length=max_length,  # Pad & truncate all sentences.\n",
        "       pad_to_max_length=True,\n",
        "       return_attention_mask=True,  # Construct attn. masks.\n",
        "       return_tensors='pt',  # Return pytorch tensors.\n",
        "       )\n",
        "\n",
        "  # Add the encoded sentence to the list.\n",
        "  test_inputs.append(encoded_dict['input_ids'])\n",
        "  test_masks.append(encoded_dict['attention_mask'])\n",
        "  test_text.append(tokenizer.tokenize(tokenizer.decode(encoded_dict['input_ids'].tolist()[0])))\n",
        "\n",
        "  #  Convert to tensors\n",
        "test_inputs = torch.stack(test_inputs).squeeze()\n",
        "test_Humor = torch.tensor(test_Humor)\n",
        "test_masks = torch.stack(test_masks).squeeze()\n",
        "\n",
        "test_data = TensorDataset(test_inputs, test_masks, test_Humor)\n",
        "test_sampler = RandomSampler(test_data)\n",
        "test_dataloader = DataLoader(test_data, sampler=test_sampler, batch_size=16)\n"
      ],
      "execution_count": 8,
      "outputs": [
        {
          "output_type": "stream",
          "name": "stdout",
          "text": [
            "Number of testing instances: 38757\n"
          ]
        },
        {
          "output_type": "stream",
          "name": "stderr",
          "text": [
            "/usr/local/lib/python3.7/dist-packages/transformers/tokenization_utils_base.py:2218: FutureWarning: The `pad_to_max_length` argument is deprecated and will be removed in a future version, use `padding=True` or `padding='longest'` to pad to the longest sequence in the batch, or use `padding='max_length'` to pad to a max length. In this case, you can give a specific length with `max_length` (e.g. `max_length=45`) or leave max_length to None to pad to the maximal input size of the model (e.g. 512 for Bert).\n",
            "  FutureWarning,\n"
          ]
        }
      ]
    },
    {
      "cell_type": "code",
      "metadata": {
        "id": "pwNPWMYfcfiU",
        "colab": {
          "base_uri": "https://localhost:8080/"
        },
        "outputId": "8a9d098a-b2f0-4a8b-9738-670f2f42efdb"
      },
      "source": [
        "#  Train the model\n",
        "\n",
        "# set parameters\n",
        "param_optimizer = list(model.named_parameters())\n",
        "no_decay = ['bias', 'gamma', 'beta']\n",
        "optimizer_grouped_parameters = [\n",
        "        {'params': [p for n, p in param_optimizer if not any(nd in n for nd in no_decay)],\n",
        "         'weight_decay_rate': 0.01},\n",
        "        {'params': [p for n, p in param_optimizer if any(nd in n for nd in no_decay)],\n",
        "         'weight_decay_rate': 0.0}\n",
        "    ]\n",
        "num_training_steps = len(train_dataloader) * epochs\n",
        "num_warmup_steps = 0\n",
        "optimizer = AdamW(optimizer_grouped_parameters, lr=2e-5)\n",
        "scheduler = get_linear_schedule_with_warmup(optimizer, num_warmup_steps=num_warmup_steps,\n",
        "                                                num_training_steps=num_training_steps)\n",
        "\n",
        "train_loss_set = []\n",
        "training_stats = []\n",
        "\n",
        "# trange is a_bert tqdm wrapper around the normal python range\n",
        "for _ in trange(epochs, desc=\"Epoch\"):\n",
        "  global model\n",
        "  print(\"Epoch: \", _)\n",
        "  print(\"run training\")\n",
        "\n",
        "  #train the model\n",
        "  model.train()\n",
        "       \n",
        "  # Total loss for this epoch.\n",
        "  tl_set = []\n",
        "  total_loss = 0\n",
        "  nb_tr_examples, nb_tr_steps = 0, 0\n",
        "\n",
        "  # Train the data for one epoch\n",
        "  for step, batch in enumerate(train_dataloader):\n",
        "    print(\"Step: \" + str(step))\n",
        "    # # Add batch to GPU\n",
        "    batch = tuple(t.to(device) for t in batch)\n",
        "\n",
        "    # Unpack the inputs from our dataloader\n",
        "    b_input_ids, b_input_mask, b_labels = batch\n",
        "    \n",
        "    # Clear out the gradients (by default they accumulate)\n",
        "    optimizer.zero_grad()\n",
        "    \n",
        "    # Forward pass\n",
        "    outputs = model(b_input_ids, token_type_ids=None, attention_mask=b_input_mask, labels=b_labels)\n",
        "    loss, logits = outputs[:2]\n",
        "\n",
        "    # Accumulate the training loss over all of the batches so that we can\n",
        "    # calculate the average loss at the end. `loss` is a_bert Tensor containing a_bert\n",
        "    # single value; the `.item()` function just returns the Python value\n",
        "    # from the tensor.\n",
        "    tl_set.append(loss.item())\n",
        "\n",
        "    # Backward pass\n",
        "    loss.backward()\n",
        "    \n",
        "    # Update parameters and take a_bert step using the computed gradient\n",
        "    optimizer.step()\n",
        "    scheduler.step()\n",
        "\n",
        "    # Update tracking variables\n",
        "    total_loss += loss.item()\n",
        "    nb_tr_examples += b_input_ids.size(0)\n",
        "    nb_tr_steps += 1\n",
        "\n",
        "    avg_train_loss = total_loss / nb_tr_steps\n",
        "    print(\"Length: \" + str(len(tl_set)))\n",
        "    print(\"Average total train loss: {}\".format(total_loss / nb_tr_steps))\n",
        "    print(\"Total Loss for this epoch: \" + str(total_loss))\n",
        "    print(\"Number of steps for this epoch: \" + str(nb_tr_steps))\n",
        "        \n",
        "  print(\"Training complete!\")"
      ],
      "execution_count": 9,
      "outputs": [
        {
          "output_type": "stream",
          "name": "stderr",
          "text": [
            "\rEpoch:   0%|          | 0/2 [00:00<?, ?it/s]"
          ]
        },
        {
          "output_type": "stream",
          "name": "stdout",
          "text": [
            "Epoch:  0\n",
            "run training\n",
            "Step: 0\n",
            "Length: 1\n",
            "Average total train loss: 0.6564065217971802\n",
            "Total Loss for this epoch: 0.6564065217971802\n",
            "Number of steps for this epoch: 1\n",
            "Step: 1\n",
            "Length: 2\n",
            "Average total train loss: 0.6838686168193817\n",
            "Total Loss for this epoch: 1.3677372336387634\n",
            "Number of steps for this epoch: 2\n",
            "Step: 2\n",
            "Length: 3\n",
            "Average total train loss: 0.676655650138855\n",
            "Total Loss for this epoch: 2.029966950416565\n",
            "Number of steps for this epoch: 3\n",
            "Step: 3\n",
            "Length: 4\n",
            "Average total train loss: 0.6815985441207886\n",
            "Total Loss for this epoch: 2.7263941764831543\n",
            "Number of steps for this epoch: 4\n",
            "Step: 4\n",
            "Length: 5\n",
            "Average total train loss: 0.67489093542099\n",
            "Total Loss for this epoch: 3.37445467710495\n",
            "Number of steps for this epoch: 5\n",
            "Step: 5\n",
            "Length: 6\n",
            "Average total train loss: 0.6761951545874277\n",
            "Total Loss for this epoch: 4.057170927524567\n",
            "Number of steps for this epoch: 6\n",
            "Step: 6\n",
            "Length: 7\n",
            "Average total train loss: 0.6639174904142108\n",
            "Total Loss for this epoch: 4.647422432899475\n",
            "Number of steps for this epoch: 7\n",
            "Step: 7\n",
            "Length: 8\n",
            "Average total train loss: 0.6545172035694122\n",
            "Total Loss for this epoch: 5.236137628555298\n",
            "Number of steps for this epoch: 8\n",
            "Step: 8\n",
            "Length: 9\n",
            "Average total train loss: 0.6440027819739448\n",
            "Total Loss for this epoch: 5.796025037765503\n",
            "Number of steps for this epoch: 9\n",
            "Step: 9\n",
            "Length: 10\n",
            "Average total train loss: 0.6375689566135406\n",
            "Total Loss for this epoch: 6.3756895661354065\n",
            "Number of steps for this epoch: 10\n",
            "Step: 10\n",
            "Length: 11\n",
            "Average total train loss: 0.628653575073589\n",
            "Total Loss for this epoch: 6.915189325809479\n",
            "Number of steps for this epoch: 11\n",
            "Step: 11\n",
            "Length: 12\n",
            "Average total train loss: 0.6232006996870041\n",
            "Total Loss for this epoch: 7.478408396244049\n",
            "Number of steps for this epoch: 12\n",
            "Step: 12\n",
            "Length: 13\n",
            "Average total train loss: 0.6154150733580956\n",
            "Total Loss for this epoch: 8.000395953655243\n",
            "Number of steps for this epoch: 13\n",
            "Step: 13\n",
            "Length: 14\n",
            "Average total train loss: 0.60838411961283\n",
            "Total Loss for this epoch: 8.51737767457962\n",
            "Number of steps for this epoch: 14\n",
            "Step: 14\n",
            "Length: 15\n",
            "Average total train loss: 0.5982387820879619\n",
            "Total Loss for this epoch: 8.973581731319427\n",
            "Number of steps for this epoch: 15\n",
            "Step: 15\n",
            "Length: 16\n",
            "Average total train loss: 0.5877472143620253\n",
            "Total Loss for this epoch: 9.403955429792404\n",
            "Number of steps for this epoch: 16\n",
            "Step: 16\n",
            "Length: 17\n",
            "Average total train loss: 0.5868398704949547\n",
            "Total Loss for this epoch: 9.97627779841423\n",
            "Number of steps for this epoch: 17\n",
            "Step: 17\n",
            "Length: 18\n",
            "Average total train loss: 0.579305993186103\n",
            "Total Loss for this epoch: 10.427507877349854\n",
            "Number of steps for this epoch: 18\n",
            "Step: 18\n",
            "Length: 19\n",
            "Average total train loss: 0.5703441500663757\n",
            "Total Loss for this epoch: 10.836538851261139\n",
            "Number of steps for this epoch: 19\n",
            "Step: 19\n",
            "Length: 20\n",
            "Average total train loss: 0.5674904316663743\n",
            "Total Loss for this epoch: 11.349808633327484\n",
            "Number of steps for this epoch: 20\n",
            "Step: 20\n",
            "Length: 21\n",
            "Average total train loss: 0.5608095796335311\n",
            "Total Loss for this epoch: 11.777001172304153\n",
            "Number of steps for this epoch: 21\n",
            "Step: 21\n",
            "Length: 22\n",
            "Average total train loss: 0.5545050637288527\n",
            "Total Loss for this epoch: 12.19911140203476\n",
            "Number of steps for this epoch: 22\n",
            "Step: 22\n",
            "Length: 23\n",
            "Average total train loss: 0.5507214782030686\n",
            "Total Loss for this epoch: 12.666593998670578\n",
            "Number of steps for this epoch: 23\n",
            "Step: 23\n",
            "Length: 24\n",
            "Average total train loss: 0.5429769506057104\n",
            "Total Loss for this epoch: 13.031446814537048\n",
            "Number of steps for this epoch: 24\n",
            "Step: 24\n",
            "Length: 25\n",
            "Average total train loss: 0.535097736120224\n",
            "Total Loss for this epoch: 13.3774434030056\n",
            "Number of steps for this epoch: 25\n",
            "Step: 25\n",
            "Length: 26\n",
            "Average total train loss: 0.5288269622967794\n",
            "Total Loss for this epoch: 13.749501019716263\n",
            "Number of steps for this epoch: 26\n",
            "Step: 26\n",
            "Length: 27\n",
            "Average total train loss: 0.5218340765546869\n",
            "Total Loss for this epoch: 14.089520066976547\n",
            "Number of steps for this epoch: 27\n",
            "Step: 27\n",
            "Length: 28\n",
            "Average total train loss: 0.5116123525159699\n",
            "Total Loss for this epoch: 14.325145870447159\n",
            "Number of steps for this epoch: 28\n",
            "Step: 28\n",
            "Length: 29\n",
            "Average total train loss: 0.5027580240677143\n",
            "Total Loss for this epoch: 14.579982697963715\n",
            "Number of steps for this epoch: 29\n",
            "Step: 29\n",
            "Length: 30\n",
            "Average total train loss: 0.49623590807120005\n",
            "Total Loss for this epoch: 14.887077242136002\n",
            "Number of steps for this epoch: 30\n",
            "Step: 30\n",
            "Length: 31\n",
            "Average total train loss: 0.4878135549445306\n",
            "Total Loss for this epoch: 15.122220203280449\n",
            "Number of steps for this epoch: 31\n",
            "Step: 31\n",
            "Length: 32\n",
            "Average total train loss: 0.48178024170920253\n",
            "Total Loss for this epoch: 15.416967734694481\n",
            "Number of steps for this epoch: 32\n",
            "Step: 32\n",
            "Length: 33\n",
            "Average total train loss: 0.47708024536118365\n",
            "Total Loss for this epoch: 15.74364809691906\n",
            "Number of steps for this epoch: 33\n",
            "Step: 33\n",
            "Length: 34\n",
            "Average total train loss: 0.47338785450248155\n",
            "Total Loss for this epoch: 16.095187053084373\n",
            "Number of steps for this epoch: 34\n",
            "Step: 34\n",
            "Length: 35\n",
            "Average total train loss: 0.4741021313837596\n",
            "Total Loss for this epoch: 16.593574598431587\n",
            "Number of steps for this epoch: 35\n",
            "Step: 35\n",
            "Length: 36\n",
            "Average total train loss: 0.47091927586330307\n",
            "Total Loss for this epoch: 16.95309393107891\n",
            "Number of steps for this epoch: 36\n",
            "Step: 36\n",
            "Length: 37\n",
            "Average total train loss: 0.46501876736009445\n",
            "Total Loss for this epoch: 17.205694392323494\n",
            "Number of steps for this epoch: 37\n",
            "Step: 37\n",
            "Length: 38\n",
            "Average total train loss: 0.4605954269829549\n",
            "Total Loss for this epoch: 17.502626225352287\n",
            "Number of steps for this epoch: 38\n",
            "Step: 38\n"
          ]
        },
        {
          "output_type": "stream",
          "name": "stderr",
          "text": [
            "\rEpoch:  50%|█████     | 1/2 [00:10<00:10, 10.08s/it]"
          ]
        },
        {
          "output_type": "stream",
          "name": "stdout",
          "text": [
            "Length: 39\n",
            "Average total train loss: 0.4604394271587714\n",
            "Total Loss for this epoch: 17.957137659192085\n",
            "Number of steps for this epoch: 39\n",
            "Step: 39\n",
            "Length: 40\n",
            "Average total train loss: 0.4535248279571533\n",
            "Total Loss for this epoch: 18.140993118286133\n",
            "Number of steps for this epoch: 40\n",
            "Training complete!\n",
            "Epoch:  1\n",
            "run training\n",
            "Step: 0\n",
            "Length: 1\n",
            "Average total train loss: 0.2862491309642792\n",
            "Total Loss for this epoch: 0.2862491309642792\n",
            "Number of steps for this epoch: 1\n",
            "Step: 1\n",
            "Length: 2\n",
            "Average total train loss: 0.2097082957625389\n",
            "Total Loss for this epoch: 0.4194165915250778\n",
            "Number of steps for this epoch: 2\n",
            "Step: 2\n",
            "Length: 3\n",
            "Average total train loss: 0.18542573352654776\n",
            "Total Loss for this epoch: 0.5562772005796432\n",
            "Number of steps for this epoch: 3\n",
            "Step: 3\n",
            "Length: 4\n",
            "Average total train loss: 0.2019873969256878\n",
            "Total Loss for this epoch: 0.8079495877027512\n",
            "Number of steps for this epoch: 4\n",
            "Step: 4\n",
            "Length: 5\n",
            "Average total train loss: 0.2093635231256485\n",
            "Total Loss for this epoch: 1.0468176156282425\n",
            "Number of steps for this epoch: 5\n",
            "Step: 5\n",
            "Length: 6\n",
            "Average total train loss: 0.2190941646695137\n",
            "Total Loss for this epoch: 1.3145649880170822\n",
            "Number of steps for this epoch: 6\n",
            "Step: 6\n",
            "Length: 7\n",
            "Average total train loss: 0.21202534011432103\n",
            "Total Loss for this epoch: 1.4841773808002472\n",
            "Number of steps for this epoch: 7\n",
            "Step: 7\n",
            "Length: 8\n",
            "Average total train loss: 0.20926856994628906\n",
            "Total Loss for this epoch: 1.6741485595703125\n",
            "Number of steps for this epoch: 8\n",
            "Step: 8\n",
            "Length: 9\n",
            "Average total train loss: 0.2026150193479326\n",
            "Total Loss for this epoch: 1.8235351741313934\n",
            "Number of steps for this epoch: 9\n",
            "Step: 9\n",
            "Length: 10\n",
            "Average total train loss: 0.20437797009944916\n",
            "Total Loss for this epoch: 2.0437797009944916\n",
            "Number of steps for this epoch: 10\n",
            "Step: 10\n",
            "Length: 11\n",
            "Average total train loss: 0.23564752394502814\n",
            "Total Loss for this epoch: 2.5921227633953094\n",
            "Number of steps for this epoch: 11\n",
            "Step: 11\n",
            "Length: 12\n",
            "Average total train loss: 0.2248401107887427\n",
            "Total Loss for this epoch: 2.6980813294649124\n",
            "Number of steps for this epoch: 12\n",
            "Step: 12\n",
            "Length: 13\n",
            "Average total train loss: 0.22376186687212724\n",
            "Total Loss for this epoch: 2.908904269337654\n",
            "Number of steps for this epoch: 13\n",
            "Step: 13\n",
            "Length: 14\n",
            "Average total train loss: 0.2187440331493105\n",
            "Total Loss for this epoch: 3.0624164640903473\n",
            "Number of steps for this epoch: 14\n",
            "Step: 14\n",
            "Length: 15\n",
            "Average total train loss: 0.21144533803065618\n",
            "Total Loss for this epoch: 3.1716800704598427\n",
            "Number of steps for this epoch: 15\n",
            "Step: 15\n",
            "Length: 16\n",
            "Average total train loss: 0.20900689577683806\n",
            "Total Loss for this epoch: 3.344110332429409\n",
            "Number of steps for this epoch: 16\n",
            "Step: 16\n",
            "Length: 17\n",
            "Average total train loss: 0.20837760804330602\n",
            "Total Loss for this epoch: 3.5424193367362022\n",
            "Number of steps for this epoch: 17\n",
            "Step: 17\n",
            "Length: 18\n",
            "Average total train loss: 0.20292436455686888\n",
            "Total Loss for this epoch: 3.6526385620236397\n",
            "Number of steps for this epoch: 18\n",
            "Step: 18\n",
            "Length: 19\n",
            "Average total train loss: 0.19923995866587288\n",
            "Total Loss for this epoch: 3.7855592146515846\n",
            "Number of steps for this epoch: 19\n",
            "Step: 19\n",
            "Length: 20\n",
            "Average total train loss: 0.19515221156179904\n",
            "Total Loss for this epoch: 3.903044231235981\n",
            "Number of steps for this epoch: 20\n",
            "Step: 20\n",
            "Length: 21\n",
            "Average total train loss: 0.19712880431186586\n",
            "Total Loss for this epoch: 4.139704890549183\n",
            "Number of steps for this epoch: 21\n",
            "Step: 21\n",
            "Length: 22\n",
            "Average total train loss: 0.19532447680830956\n",
            "Total Loss for this epoch: 4.29713848978281\n",
            "Number of steps for this epoch: 22\n",
            "Step: 22\n",
            "Length: 23\n",
            "Average total train loss: 0.19936200490464334\n",
            "Total Loss for this epoch: 4.585326112806797\n",
            "Number of steps for this epoch: 23\n",
            "Step: 23\n",
            "Length: 24\n",
            "Average total train loss: 0.19858744523177543\n",
            "Total Loss for this epoch: 4.766098685562611\n",
            "Number of steps for this epoch: 24\n",
            "Step: 24\n",
            "Length: 25\n",
            "Average total train loss: 0.20041669875383378\n",
            "Total Loss for this epoch: 5.010417468845844\n",
            "Number of steps for this epoch: 25\n",
            "Step: 25\n",
            "Length: 26\n",
            "Average total train loss: 0.2003331107015793\n",
            "Total Loss for this epoch: 5.208660878241062\n",
            "Number of steps for this epoch: 26\n",
            "Step: 26\n",
            "Length: 27\n",
            "Average total train loss: 0.1959574595093727\n",
            "Total Loss for this epoch: 5.290851406753063\n",
            "Number of steps for this epoch: 27\n",
            "Step: 27\n",
            "Length: 28\n",
            "Average total train loss: 0.19287995408688272\n",
            "Total Loss for this epoch: 5.400638714432716\n",
            "Number of steps for this epoch: 28\n",
            "Step: 28\n",
            "Length: 29\n",
            "Average total train loss: 0.1909921194972663\n",
            "Total Loss for this epoch: 5.538771465420723\n",
            "Number of steps for this epoch: 29\n",
            "Step: 29\n",
            "Length: 30\n",
            "Average total train loss: 0.19117909421523413\n",
            "Total Loss for this epoch: 5.735372826457024\n",
            "Number of steps for this epoch: 30\n",
            "Step: 30\n",
            "Length: 31\n",
            "Average total train loss: 0.19709621658248286\n",
            "Total Loss for this epoch: 6.109982714056969\n",
            "Number of steps for this epoch: 31\n",
            "Step: 31\n",
            "Length: 32\n",
            "Average total train loss: 0.19794058660045266\n",
            "Total Loss for this epoch: 6.334098771214485\n",
            "Number of steps for this epoch: 32\n",
            "Step: 32\n",
            "Length: 33\n",
            "Average total train loss: 0.19798470898108048\n",
            "Total Loss for this epoch: 6.533495396375656\n",
            "Number of steps for this epoch: 33\n",
            "Step: 33\n",
            "Length: 34\n",
            "Average total train loss: 0.19834999915431528\n",
            "Total Loss for this epoch: 6.743899971246719\n",
            "Number of steps for this epoch: 34\n",
            "Step: 34\n",
            "Length: 35\n",
            "Average total train loss: 0.19952698137078967\n",
            "Total Loss for this epoch: 6.983444347977638\n",
            "Number of steps for this epoch: 35\n",
            "Step: 35\n",
            "Length: 36\n",
            "Average total train loss: 0.19733857322070333\n",
            "Total Loss for this epoch: 7.10418863594532\n",
            "Number of steps for this epoch: 36\n",
            "Step: 36\n",
            "Length: 37\n",
            "Average total train loss: 0.1961424068824665\n",
            "Total Loss for this epoch: 7.25726905465126\n",
            "Number of steps for this epoch: 37\n",
            "Step: 37\n",
            "Length: 38\n",
            "Average total train loss: 0.19385392767818352\n",
            "Total Loss for this epoch: 7.366449251770973\n",
            "Number of steps for this epoch: 38\n",
            "Step: 38\n"
          ]
        },
        {
          "output_type": "stream",
          "name": "stderr",
          "text": [
            "Epoch: 100%|██████████| 2/2 [00:19<00:00,  9.94s/it]"
          ]
        },
        {
          "output_type": "stream",
          "name": "stdout",
          "text": [
            "Length: 39\n",
            "Average total train loss: 0.19136969859783465\n",
            "Total Loss for this epoch: 7.463418245315552\n",
            "Number of steps for this epoch: 39\n",
            "Step: 39\n",
            "Length: 40\n",
            "Average total train loss: 0.19042586274445056\n",
            "Total Loss for this epoch: 7.617034509778023\n",
            "Number of steps for this epoch: 40\n",
            "Training complete!\n"
          ]
        },
        {
          "output_type": "stream",
          "name": "stderr",
          "text": [
            "\n"
          ]
        }
      ]
    },
    {
      "cell_type": "code",
      "metadata": {
        "id": "bUPqrJ6uF1GJ",
        "colab": {
          "base_uri": "https://localhost:8080/"
        },
        "outputId": "9b100b94-3ac0-405b-8b14-13a34d5e1871"
      },
      "source": [
        "#  Inference over the test data and print out the accuracy of the model\n",
        "\n",
        "# Tracking variables\n",
        "total_eval_accuracy = 0\n",
        "nb_eval_steps, nb_eval_examples = 0, 0\n",
        "predictions, true_labels = [], []\n",
        "\n",
        "# Evaluate data for one epoch\n",
        "for batch in test_dataloader:\n",
        "  # Add batch to GPU\n",
        "  batch = tuple(t.to(device) for t in batch)\n",
        "  \n",
        "  # Unpack the inputs from our dataloader\n",
        "  b_input_ids, b_input_mask, b_labels = batch\n",
        "  \n",
        "  # Telling the model_bert not to compute or store gradients, saving memory and speeding up validation\n",
        "  with torch.no_grad():\n",
        "      # Forward pass, calculate logit predictions\n",
        "      outputs = model(b_input_ids, token_type_ids=None, attention_mask=b_input_mask)\n",
        "      logits = outputs.logits\n",
        "    \n",
        "  # Move logits and labels to CPU\n",
        "  logits = logits.detach().cpu().numpy()\n",
        "  label_ids = b_labels.to('cpu').numpy()\n",
        "\n",
        "  #  flatten out our predictions and labels to calculate the accuracy\n",
        "  pred_flat = np.argmax(logits, axis=1).flatten()\n",
        "  labels_flat = label_ids.flatten()\n",
        "\n",
        "  # b_input_ids - actual sentence 16 labels_flat 16 pred_flat 16\n",
        "\n",
        "  # text, actual_label, pred_label - map\n",
        "  #  calculate accuracy\n",
        "  total_eval_accuracy += np.sum(pred_flat == labels_flat) / len(labels_flat)\n",
        "  nb_eval_steps += 1\n",
        "\n",
        "  # get predicitons to list\n",
        "  predict_content = logits.argmax(axis=-1).flatten().tolist()\n",
        "\n",
        "  # Store predictions and true labels\n",
        "  predictions.append(predict_content)\n",
        "  true_labels.append(label_ids)\n",
        "\n",
        "print(\"Testing complete!\")\n",
        "print(\"Accuracy over the test set: {}\".format(total_eval_accuracy / nb_eval_steps))"
      ],
      "execution_count": 10,
      "outputs": [
        {
          "output_type": "stream",
          "name": "stdout",
          "text": [
            "Testing complete!\n",
            "Accuracy over the test set: 0.9309997936442427\n"
          ]
        }
      ]
    },
    {
      "cell_type": "code",
      "metadata": {
        "id": "jHsryC0BOAJr",
        "colab": {
          "base_uri": "https://localhost:8080/"
        },
        "outputId": "08c99d5f-cf8a-4f89-f16a-b4b1d786499f"
      },
      "source": [
        "test_label = []\n",
        "for i in true_labels:\n",
        "    for j in i:\n",
        "        test_label.append(j)\n",
        " \n",
        "test_label = np.array(test_label)\n",
        "test_label"
      ],
      "execution_count": 11,
      "outputs": [
        {
          "output_type": "execute_result",
          "data": {
            "text/plain": [
              "array([1, 1, 1, ..., 0, 0, 0])"
            ]
          },
          "metadata": {},
          "execution_count": 11
        }
      ]
    },
    {
      "cell_type": "code",
      "metadata": {
        "id": "_ncj2gMROJIw",
        "colab": {
          "base_uri": "https://localhost:8080/"
        },
        "outputId": "92ade961-5f5e-4581-bdf8-26ecd0847df7"
      },
      "source": [
        "pred = []\n",
        "for i in predictions:\n",
        "    for j in i:\n",
        "        pred.append(j)\n",
        " \n",
        "pred = np.array(pred)\n",
        "pred"
      ],
      "execution_count": 12,
      "outputs": [
        {
          "output_type": "execute_result",
          "data": {
            "text/plain": [
              "array([1, 1, 1, ..., 0, 0, 0])"
            ]
          },
          "metadata": {},
          "execution_count": 12
        }
      ]
    },
    {
      "cell_type": "code",
      "metadata": {
        "id": "ctef6qo0OLwU",
        "colab": {
          "base_uri": "https://localhost:8080/"
        },
        "outputId": "ad9176ee-0c4b-47d2-f5fd-85b03959daf0"
      },
      "source": [
        "from sklearn.metrics import confusion_matrix\n",
        "Bert_Based = confusion_matrix(test_label, pred)\n",
        "Bert_Based"
      ],
      "execution_count": 17,
      "outputs": [
        {
          "output_type": "execute_result",
          "data": {
            "text/plain": [
              "array([[18145,  1128],\n",
              "       [ 1547, 17937]])"
            ]
          },
          "metadata": {},
          "execution_count": 17
        }
      ]
    },
    {
      "cell_type": "code",
      "metadata": {
        "id": "rVNH2UEgOSXR"
      },
      "source": [
        "TP1,TN1,FP1,FN1 = Bert_Based[1][1],Bert_Based[0][0],Bert_Based[0][1],Bert_Based[1][0]"
      ],
      "execution_count": 18,
      "outputs": []
    },
    {
      "cell_type": "code",
      "metadata": {
        "id": "VU6M5r6UOak4",
        "colab": {
          "base_uri": "https://localhost:8080/"
        },
        "outputId": "42c7ee18-b7fe-45fc-94b8-b210d2369d4a"
      },
      "source": [
        "Accuracy = (TP1+TN1)/(TP1+FP1+FN1+TN1)\n",
        "Accuracy "
      ],
      "execution_count": 19,
      "outputs": [
        {
          "output_type": "execute_result",
          "data": {
            "text/plain": [
              "0.9309802100265758"
            ]
          },
          "metadata": {},
          "execution_count": 19
        }
      ]
    },
    {
      "cell_type": "code",
      "metadata": {
        "id": "X78XquuAOanl",
        "colab": {
          "base_uri": "https://localhost:8080/"
        },
        "outputId": "3abbc9a9-7a32-4aba-8af4-3908291a121c"
      },
      "source": [
        "Precision = TP1/(TP1+FP1)\n",
        "Precision"
      ],
      "execution_count": 20,
      "outputs": [
        {
          "output_type": "execute_result",
          "data": {
            "text/plain": [
              "0.9408339889850511"
            ]
          },
          "metadata": {},
          "execution_count": 20
        }
      ]
    },
    {
      "cell_type": "code",
      "metadata": {
        "id": "-Dlj8679OaqS",
        "colab": {
          "base_uri": "https://localhost:8080/"
        },
        "outputId": "5e0f4d3e-7788-45c1-cb67-3fbe5b7be1c0"
      },
      "source": [
        "Recall = TP1/(TP1+FN1)\n",
        "Recall"
      ],
      "execution_count": 21,
      "outputs": [
        {
          "output_type": "execute_result",
          "data": {
            "text/plain": [
              "0.9206015191952371"
            ]
          },
          "metadata": {},
          "execution_count": 21
        }
      ]
    },
    {
      "cell_type": "code",
      "metadata": {
        "id": "-kdoathmOf-a",
        "colab": {
          "base_uri": "https://localhost:8080/"
        },
        "outputId": "7518ac0d-cb7d-4006-8b1a-e58bd9b5c812"
      },
      "source": [
        "F1 = 2*(Recall * Precision) / (Recall + Precision)\n",
        "F1"
      ],
      "execution_count": 22,
      "outputs": [
        {
          "output_type": "execute_result",
          "data": {
            "text/plain": [
              "0.9306077978676489"
            ]
          },
          "metadata": {},
          "execution_count": 22
        }
      ]
    },
    {
      "cell_type": "code",
      "metadata": {
        "id": "FriSJZmCOjvU",
        "colab": {
          "base_uri": "https://localhost:8080/"
        },
        "outputId": "f69afd12-0f64-4512-c73b-0c587c859545"
      },
      "source": [
        "target_names = ['class 0', 'class 1']\n",
        "print(classification_report(test_label, pred, target_names=target_names))"
      ],
      "execution_count": 23,
      "outputs": [
        {
          "output_type": "stream",
          "name": "stdout",
          "text": [
            "              precision    recall  f1-score   support\n",
            "\n",
            "     class 0       0.92      0.94      0.93     19273\n",
            "     class 1       0.94      0.92      0.93     19484\n",
            "\n",
            "    accuracy                           0.93     38757\n",
            "   macro avg       0.93      0.93      0.93     38757\n",
            "weighted avg       0.93      0.93      0.93     38757\n",
            "\n"
          ]
        }
      ]
    },
    {
      "cell_type": "markdown",
      "metadata": {
        "id": "61a3e6JxOmk2"
      },
      "source": [
        "**Gaussian NB Based Approach for classification**"
      ]
    },
    {
      "cell_type": "code",
      "metadata": {
        "id": "-Fqoy3RRO4kn"
      },
      "source": [
        "GNB = GaussianNB()\n",
        "gc = GNB.fit(train_inputs, train_Humor)"
      ],
      "execution_count": 24,
      "outputs": []
    },
    {
      "cell_type": "code",
      "metadata": {
        "id": "weuu_Dv_O7N3",
        "colab": {
          "base_uri": "https://localhost:8080/"
        },
        "outputId": "b097a915-43ab-4451-d53e-db0aa8cdadfe"
      },
      "source": [
        "t_input = test_inputs.resize(77514,31)"
      ],
      "execution_count": 25,
      "outputs": [
        {
          "output_type": "stream",
          "name": "stderr",
          "text": [
            "/usr/local/lib/python3.7/dist-packages/torch/_tensor.py:493: UserWarning: non-inplace resize is deprecated\n",
            "  warnings.warn(\"non-inplace resize is deprecated\")\n"
          ]
        }
      ]
    },
    {
      "cell_type": "code",
      "metadata": {
        "id": "gAtc6TjFO7QX"
      },
      "source": [
        "predict = gc.predict(t_input)"
      ],
      "execution_count": 26,
      "outputs": []
    },
    {
      "cell_type": "code",
      "metadata": {
        "id": "rFbNCWyBO7Sl"
      },
      "source": [
        "p = np.resize(predict,(38757))"
      ],
      "execution_count": 27,
      "outputs": []
    },
    {
      "cell_type": "code",
      "metadata": {
        "id": "h6q1XO0WO7VE",
        "colab": {
          "base_uri": "https://localhost:8080/"
        },
        "outputId": "f832689b-18b0-4700-b89d-fec55c450a9f"
      },
      "source": [
        "cm = confusion_matrix(test_Humor, p)\n",
        "cm"
      ],
      "execution_count": 28,
      "outputs": [
        {
          "output_type": "execute_result",
          "data": {
            "text/plain": [
              "array([[18314,   959],\n",
              "       [18544,   940]])"
            ]
          },
          "metadata": {},
          "execution_count": 28
        }
      ]
    },
    {
      "cell_type": "code",
      "metadata": {
        "id": "hZNhNra0pGGX"
      },
      "source": [
        "TP,TN,FP,FN = cm[1][1],cm[0][0],cm[0][1],cm[1][0]"
      ],
      "execution_count": 29,
      "outputs": []
    },
    {
      "cell_type": "code",
      "metadata": {
        "id": "FyzXNtWloyWD",
        "colab": {
          "base_uri": "https://localhost:8080/"
        },
        "outputId": "d36d3aa4-bb24-4517-904f-e1c955b544c1"
      },
      "source": [
        "Accuracy = (TP+TN)/(TP+FP+FN+TN)\n",
        "Accuracy "
      ],
      "execution_count": 30,
      "outputs": [
        {
          "output_type": "execute_result",
          "data": {
            "text/plain": [
              "0.49678767706478827"
            ]
          },
          "metadata": {},
          "execution_count": 30
        }
      ]
    },
    {
      "cell_type": "code",
      "metadata": {
        "id": "wRhUVGlWpTfn",
        "colab": {
          "base_uri": "https://localhost:8080/"
        },
        "outputId": "1d785e25-505f-4159-8830-9a4e11addbf2"
      },
      "source": [
        "Precision = TP/(TP+FP)\n",
        "Precision"
      ],
      "execution_count": 31,
      "outputs": [
        {
          "output_type": "execute_result",
          "data": {
            "text/plain": [
              "0.49499736703528174"
            ]
          },
          "metadata": {},
          "execution_count": 31
        }
      ]
    },
    {
      "cell_type": "code",
      "metadata": {
        "id": "oyKgKklHpTrA",
        "colab": {
          "base_uri": "https://localhost:8080/"
        },
        "outputId": "1f4b9cfc-0cf6-4991-89d4-9e77d5d5e4fc"
      },
      "source": [
        "Recall = TP/(TP+FN)\n",
        "Recall"
      ],
      "execution_count": 32,
      "outputs": [
        {
          "output_type": "execute_result",
          "data": {
            "text/plain": [
              "0.04824471361116814"
            ]
          },
          "metadata": {},
          "execution_count": 32
        }
      ]
    },
    {
      "cell_type": "code",
      "metadata": {
        "id": "RMJls1fKpT0A",
        "colab": {
          "base_uri": "https://localhost:8080/"
        },
        "outputId": "90afe160-e97c-461e-d66a-788380d4cf24"
      },
      "source": [
        "F1 = 2*(Recall * Precision) / (Recall + Precision)\n",
        "F1"
      ],
      "execution_count": 33,
      "outputs": [
        {
          "output_type": "execute_result",
          "data": {
            "text/plain": [
              "0.08792031052705421"
            ]
          },
          "metadata": {},
          "execution_count": 33
        }
      ]
    },
    {
      "cell_type": "markdown",
      "metadata": {
        "id": "6owi3niGPyOR"
      },
      "source": [
        "**Random Forest Classifier**"
      ]
    },
    {
      "cell_type": "code",
      "metadata": {
        "id": "N0CS4FWrpUGj"
      },
      "source": [
        "clf=RandomForestClassifier(n_estimators=100)"
      ],
      "execution_count": 34,
      "outputs": []
    },
    {
      "cell_type": "code",
      "metadata": {
        "id": "_oZi6s6QEc3S",
        "colab": {
          "base_uri": "https://localhost:8080/"
        },
        "outputId": "658b2b9c-26a5-4b6c-be6b-8837529a9a7f"
      },
      "source": [
        "#Train the model using the training sets y_pred=clf.predict(X_test)\n",
        "clf.fit(train_inputs, train_Humor)"
      ],
      "execution_count": 35,
      "outputs": [
        {
          "output_type": "execute_result",
          "data": {
            "text/plain": [
              "RandomForestClassifier()"
            ]
          },
          "metadata": {},
          "execution_count": 35
        }
      ]
    },
    {
      "cell_type": "code",
      "metadata": {
        "id": "WIGrD5ZqEc7g"
      },
      "source": [
        "y_pred=clf.predict(t_input)"
      ],
      "execution_count": 36,
      "outputs": []
    },
    {
      "cell_type": "code",
      "metadata": {
        "id": "XQ-0nrMmL9WX"
      },
      "source": [
        "y_pred = np.resize(y_pred,(38757))"
      ],
      "execution_count": 37,
      "outputs": []
    },
    {
      "cell_type": "code",
      "metadata": {
        "id": "DO4K0zy8LrDf",
        "colab": {
          "base_uri": "https://localhost:8080/"
        },
        "outputId": "10ab9779-82cd-4181-f3e3-80af54468e2f"
      },
      "source": [
        "rm = confusion_matrix(test_Humor,y_pred)\n",
        "rm"
      ],
      "execution_count": 38,
      "outputs": [
        {
          "output_type": "execute_result",
          "data": {
            "text/plain": [
              "array([[14271,  5002],\n",
              "       [14566,  4918]])"
            ]
          },
          "metadata": {},
          "execution_count": 38
        }
      ]
    },
    {
      "cell_type": "code",
      "metadata": {
        "id": "mUsK57dYMLXg"
      },
      "source": [
        "TP2,TN2,FP2,FN2 = rm[1][1],rm[0][0],rm[0][1],rm[1][0]"
      ],
      "execution_count": 39,
      "outputs": []
    },
    {
      "cell_type": "code",
      "metadata": {
        "id": "g3zESG_vMLdx",
        "colab": {
          "base_uri": "https://localhost:8080/"
        },
        "outputId": "7d1be141-7367-479a-a46c-cbfd0b63a321"
      },
      "source": [
        "Accuracy_random_forest = (TP2+TN2)/(TP2+FP2+FN2+TN2)\n",
        "Accuracy_random_forest"
      ],
      "execution_count": 40,
      "outputs": [
        {
          "output_type": "execute_result",
          "data": {
            "text/plain": [
              "0.4951105606729107"
            ]
          },
          "metadata": {},
          "execution_count": 40
        }
      ]
    },
    {
      "cell_type": "code",
      "metadata": {
        "id": "kjoDZrNHMLk3",
        "colab": {
          "base_uri": "https://localhost:8080/"
        },
        "outputId": "2292f0b0-a20c-4a18-f27f-46bca9cf8b10"
      },
      "source": [
        "Precision_rf = TP2/(TP2+FP2)\n",
        "Precision_rf"
      ],
      "execution_count": 41,
      "outputs": [
        {
          "output_type": "execute_result",
          "data": {
            "text/plain": [
              "0.4957661290322581"
            ]
          },
          "metadata": {},
          "execution_count": 41
        }
      ]
    },
    {
      "cell_type": "code",
      "metadata": {
        "id": "i0Cdk3WYMLrg",
        "colab": {
          "base_uri": "https://localhost:8080/"
        },
        "outputId": "ef596c90-6aa3-49e8-9d4a-baca3bda5862"
      },
      "source": [
        "Recall_rf = TP2/(TP2+FN2)\n",
        "Recall_rf"
      ],
      "execution_count": 42,
      "outputs": [
        {
          "output_type": "execute_result",
          "data": {
            "text/plain": [
              "0.2524122356805584"
            ]
          },
          "metadata": {},
          "execution_count": 42
        }
      ]
    },
    {
      "cell_type": "code",
      "metadata": {
        "id": "jiDUO5EEMnqS",
        "colab": {
          "base_uri": "https://localhost:8080/"
        },
        "outputId": "7827370c-6635-4c3c-b31f-2f80498bb78d"
      },
      "source": [
        "F1_rf = 2*(Recall_rf * Precision_rf) / (Recall_rf + Precision_rf)\n",
        "F1_rf"
      ],
      "execution_count": 43,
      "outputs": [
        {
          "output_type": "execute_result",
          "data": {
            "text/plain": [
              "0.3345123112501701"
            ]
          },
          "metadata": {},
          "execution_count": 43
        }
      ]
    }
  ]
}